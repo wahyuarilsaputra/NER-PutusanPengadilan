{
  "cells": [
    {
      "cell_type": "markdown",
      "metadata": {
        "id": "Kxb6RDHNjneE"
      },
      "source": [
        "# Training Model Bi-LSTM"
      ]
    },
    {
      "cell_type": "markdown",
      "metadata": {
        "id": "NUflmJWmjneJ"
      },
      "source": [
        "## Import Library"
      ]
    },
    {
      "cell_type": "code",
      "execution_count": 1,
      "metadata": {
        "_cell_guid": "b1076dfc-b9ad-4769-8c92-a6c4dae69d19",
        "_uuid": "8f2839f25d086af736a60e9eeb907d3b93b6e0e5",
        "execution": {
          "iopub.execute_input": "2024-06-28T12:09:51.793158Z",
          "iopub.status.busy": "2024-06-28T12:09:51.792806Z",
          "iopub.status.idle": "2024-06-28T12:10:46.575079Z",
          "shell.execute_reply": "2024-06-28T12:10:46.573888Z",
          "shell.execute_reply.started": "2024-06-28T12:09:51.793127Z"
        },
        "id": "WxjB4MGTjneK",
        "trusted": true
      },
      "outputs": [
        {
          "name": "stdout",
          "output_type": "stream",
          "text": [
            "WARNING:tensorflow:From c:\\Users\\HP\\AppData\\Local\\Programs\\Python\\Python311\\Lib\\site-packages\\keras\\src\\losses.py:2976: The name tf.losses.sparse_softmax_cross_entropy is deprecated. Please use tf.compat.v1.losses.sparse_softmax_cross_entropy instead.\n",
            "\n"
          ]
        }
      ],
      "source": [
        "from __future__ import absolute_import, division, print_function, unicode_literals\n",
        "\n",
        "import tensorflow as tf\n",
        "import keras\n",
        "\n",
        "import pandas as pd\n",
        "import numpy as np\n",
        "import matplotlib.pyplot as plt\n",
        "import random\n",
        "import os\n",
        "SEED = 42\n",
        "np.random.seed(SEED)\n",
        "tf.random.set_seed(SEED)\n",
        "random.seed(SEED)\n",
        "os.environ['PYTHONHASHSEED'] = str(SEED)"
      ]
    },
    {
      "cell_type": "code",
      "execution_count": 2,
      "metadata": {
        "colab": {
          "base_uri": "https://localhost:8080/"
        },
        "execution": {
          "iopub.execute_input": "2024-06-28T12:10:46.577927Z",
          "iopub.status.busy": "2024-06-28T12:10:46.577227Z",
          "iopub.status.idle": "2024-06-28T12:10:46.583468Z",
          "shell.execute_reply": "2024-06-28T12:10:46.582531Z",
          "shell.execute_reply.started": "2024-06-28T12:10:46.577886Z"
        },
        "id": "DYmV9FP6jneN",
        "outputId": "d368bd10-c0cc-4e64-d408-22b227a1e01d",
        "trusted": true
      },
      "outputs": [
        {
          "name": "stdout",
          "output_type": "stream",
          "text": [
            "2.15.0\n"
          ]
        }
      ],
      "source": [
        "print(tf.__version__)"
      ]
    },
    {
      "cell_type": "markdown",
      "metadata": {
        "id": "S2uNOMY3jneO"
      },
      "source": [
        "## Set Parameter"
      ]
    },
    {
      "cell_type": "code",
      "execution_count": 3,
      "metadata": {
        "execution": {
          "iopub.execute_input": "2024-06-28T12:10:46.585013Z",
          "iopub.status.busy": "2024-06-28T12:10:46.584710Z",
          "iopub.status.idle": "2024-06-28T12:10:46.607066Z",
          "shell.execute_reply": "2024-06-28T12:10:46.605928Z",
          "shell.execute_reply.started": "2024-06-28T12:10:46.584987Z"
        },
        "id": "tx52hGdEjneO",
        "trusted": true
      },
      "outputs": [],
      "source": [
        "BATCH_SIZE = 64  # Number of examples used in each iteration\n",
        "EPOCHS = 50  # Number of passes through entire dataset\n",
        "MAX_LEN = 200  # Max length of review (in words)\n",
        "EMBEDDING = 100  # Dimension of word embedding vector"
      ]
    },
    {
      "cell_type": "markdown",
      "metadata": {
        "id": "Gp4barTNjneO"
      },
      "source": [
        "## Load Dataset"
      ]
    },
    {
      "cell_type": "code",
      "execution_count": 4,
      "metadata": {
        "colab": {
          "base_uri": "https://localhost:8080/"
        },
        "execution": {
          "iopub.execute_input": "2024-06-28T12:10:46.609767Z",
          "iopub.status.busy": "2024-06-28T12:10:46.609457Z",
          "iopub.status.idle": "2024-06-28T12:11:11.770152Z",
          "shell.execute_reply": "2024-06-28T12:11:11.769027Z",
          "shell.execute_reply.started": "2024-06-28T12:10:46.609741Z"
        },
        "id": "RD9ODkQhjneP",
        "outputId": "d155f646-fd2e-4146-dd0f-e2de408a847f",
        "trusted": true
      },
      "outputs": [],
      "source": [
        "import pandas as pd\n",
        "import numpy as np\n",
        "import matplotlib.pyplot as plt\n",
        "plt.style.use(\"ggplot\")\n",
        "\n",
        "data = pd.read_csv(\"..\\Data\\Dataset-500PidanaFix.csv\", encoding=\"latin1\")\n",
        "\n",
        "data['word'] = data['word'].replace(to_replace ='\\d+', value = '<\\g<0>>', regex = True)\n",
        "data = data.fillna(method=\"ffill\")"
      ]
    },
    {
      "cell_type": "code",
      "execution_count": 5,
      "metadata": {
        "colab": {
          "base_uri": "https://localhost:8080/",
          "height": 424
        },
        "execution": {
          "iopub.execute_input": "2024-06-28T12:11:11.771678Z",
          "iopub.status.busy": "2024-06-28T12:11:11.771411Z",
          "iopub.status.idle": "2024-06-28T12:11:11.794971Z",
          "shell.execute_reply": "2024-06-28T12:11:11.793771Z",
          "shell.execute_reply.started": "2024-06-28T12:11:11.771654Z"
        },
        "id": "m7zm4DzCjneQ",
        "outputId": "8f18928a-3010-4ad7-c1e6-cb84c2d793b8",
        "trusted": true
      },
      "outputs": [
        {
          "data": {
            "text/html": [
              "<div>\n",
              "<style scoped>\n",
              "    .dataframe tbody tr th:only-of-type {\n",
              "        vertical-align: middle;\n",
              "    }\n",
              "\n",
              "    .dataframe tbody tr th {\n",
              "        vertical-align: top;\n",
              "    }\n",
              "\n",
              "    .dataframe thead th {\n",
              "        text-align: right;\n",
              "    }\n",
              "</style>\n",
              "<table border=\"1\" class=\"dataframe\">\n",
              "  <thead>\n",
              "    <tr style=\"text-align: right;\">\n",
              "      <th></th>\n",
              "      <th>doc</th>\n",
              "      <th>sentence</th>\n",
              "      <th>word</th>\n",
              "      <th>prev</th>\n",
              "      <th>next</th>\n",
              "      <th>tag</th>\n",
              "    </tr>\n",
              "  </thead>\n",
              "  <tbody>\n",
              "    <tr>\n",
              "      <th>0</th>\n",
              "      <td>doc:0</td>\n",
              "      <td>sentence: 000001</td>\n",
              "      <td>putusan</td>\n",
              "      <td>.</td>\n",
              "      <td>nomor</td>\n",
              "      <td>O</td>\n",
              "    </tr>\n",
              "    <tr>\n",
              "      <th>1</th>\n",
              "      <td>doc:0</td>\n",
              "      <td>sentence: 000001</td>\n",
              "      <td>nomor</td>\n",
              "      <td>putusan</td>\n",
              "      <td>48</td>\n",
              "      <td>O</td>\n",
              "    </tr>\n",
              "    <tr>\n",
              "      <th>2</th>\n",
              "      <td>doc:0</td>\n",
              "      <td>sentence: 000001</td>\n",
              "      <td>&lt;48&gt;</td>\n",
              "      <td>nomor</td>\n",
              "      <td>/</td>\n",
              "      <td>B_VERN</td>\n",
              "    </tr>\n",
              "    <tr>\n",
              "      <th>3</th>\n",
              "      <td>doc:0</td>\n",
              "      <td>sentence: 000001</td>\n",
              "      <td>/</td>\n",
              "      <td>48</td>\n",
              "      <td>pid</td>\n",
              "      <td>I_VERN</td>\n",
              "    </tr>\n",
              "    <tr>\n",
              "      <th>4</th>\n",
              "      <td>doc:0</td>\n",
              "      <td>sentence: 000001</td>\n",
              "      <td>pid</td>\n",
              "      <td>/</td>\n",
              "      <td>.</td>\n",
              "      <td>I_VERN</td>\n",
              "    </tr>\n",
              "    <tr>\n",
              "      <th>...</th>\n",
              "      <td>...</td>\n",
              "      <td>...</td>\n",
              "      <td>...</td>\n",
              "      <td>...</td>\n",
              "      <td>...</td>\n",
              "      <td>...</td>\n",
              "    </tr>\n",
              "    <tr>\n",
              "      <th>4082187</th>\n",
              "      <td>doc:601</td>\n",
              "      <td>sentence: 078262</td>\n",
              "      <td>panitera</td>\n",
              "      <td>.</td>\n",
              "      <td>pengganti</td>\n",
              "      <td>O</td>\n",
              "    </tr>\n",
              "    <tr>\n",
              "      <th>4082188</th>\n",
              "      <td>doc:601</td>\n",
              "      <td>sentence: 078262</td>\n",
              "      <td>pengganti</td>\n",
              "      <td>panitera</td>\n",
              "      <td>,</td>\n",
              "      <td>O</td>\n",
              "    </tr>\n",
              "    <tr>\n",
              "      <th>4082189</th>\n",
              "      <td>doc:601</td>\n",
              "      <td>sentence: 078262</td>\n",
              "      <td>,</td>\n",
              "      <td>pengganti</td>\n",
              "      <td>ttd</td>\n",
              "      <td>O</td>\n",
              "    </tr>\n",
              "    <tr>\n",
              "      <th>4082190</th>\n",
              "      <td>doc:601</td>\n",
              "      <td>sentence: 078262</td>\n",
              "      <td>ttd</td>\n",
              "      <td>,</td>\n",
              "      <td>suraji</td>\n",
              "      <td>O</td>\n",
              "    </tr>\n",
              "    <tr>\n",
              "      <th>4082191</th>\n",
              "      <td>doc:601</td>\n",
              "      <td>sentence: 078262</td>\n",
              "      <td>suraji</td>\n",
              "      <td>ttd</td>\n",
              "      <td>.</td>\n",
              "      <td>B_REGI</td>\n",
              "    </tr>\n",
              "  </tbody>\n",
              "</table>\n",
              "<p>4082192 rows × 6 columns</p>\n",
              "</div>"
            ],
            "text/plain": [
              "             doc          sentence       word       prev       next     tag\n",
              "0          doc:0  sentence: 000001    putusan          .      nomor       O\n",
              "1          doc:0  sentence: 000001      nomor    putusan         48       O\n",
              "2          doc:0  sentence: 000001       <48>      nomor          /  B_VERN\n",
              "3          doc:0  sentence: 000001          /         48        pid  I_VERN\n",
              "4          doc:0  sentence: 000001        pid          /          .  I_VERN\n",
              "...          ...               ...        ...        ...        ...     ...\n",
              "4082187  doc:601  sentence: 078262   panitera          .  pengganti       O\n",
              "4082188  doc:601  sentence: 078262  pengganti   panitera          ,       O\n",
              "4082189  doc:601  sentence: 078262          ,  pengganti        ttd       O\n",
              "4082190  doc:601  sentence: 078262        ttd          ,     suraji       O\n",
              "4082191  doc:601  sentence: 078262     suraji        ttd          .  B_REGI\n",
              "\n",
              "[4082192 rows x 6 columns]"
            ]
          },
          "execution_count": 5,
          "metadata": {},
          "output_type": "execute_result"
        }
      ],
      "source": [
        "data"
      ]
    },
    {
      "cell_type": "code",
      "execution_count": 6,
      "metadata": {
        "colab": {
          "base_uri": "https://localhost:8080/",
          "height": 802
        },
        "execution": {
          "iopub.execute_input": "2024-06-28T12:11:11.796427Z",
          "iopub.status.busy": "2024-06-28T12:11:11.796109Z",
          "iopub.status.idle": "2024-06-28T12:11:14.299292Z",
          "shell.execute_reply": "2024-06-28T12:11:14.298252Z",
          "shell.execute_reply.started": "2024-06-28T12:11:11.796400Z"
        },
        "id": "dpwfUbGGjneQ",
        "outputId": "0525f189-5ce8-4900-92cf-e657793b9201",
        "trusted": true
      },
      "outputs": [
        {
          "data": {
            "text/html": [
              "<div>\n",
              "<style scoped>\n",
              "    .dataframe tbody tr th:only-of-type {\n",
              "        vertical-align: middle;\n",
              "    }\n",
              "\n",
              "    .dataframe tbody tr th {\n",
              "        vertical-align: top;\n",
              "    }\n",
              "\n",
              "    .dataframe thead th {\n",
              "        text-align: right;\n",
              "    }\n",
              "</style>\n",
              "<table border=\"1\" class=\"dataframe\">\n",
              "  <thead>\n",
              "    <tr style=\"text-align: right;\">\n",
              "      <th></th>\n",
              "      <th>doc</th>\n",
              "      <th>sentence</th>\n",
              "      <th>word</th>\n",
              "      <th>prev</th>\n",
              "      <th>next</th>\n",
              "    </tr>\n",
              "    <tr>\n",
              "      <th>tag</th>\n",
              "      <th></th>\n",
              "      <th></th>\n",
              "      <th></th>\n",
              "      <th></th>\n",
              "      <th></th>\n",
              "    </tr>\n",
              "  </thead>\n",
              "  <tbody>\n",
              "    <tr>\n",
              "      <th>B_ARTV</th>\n",
              "      <td>1509</td>\n",
              "      <td>1509</td>\n",
              "      <td>1509</td>\n",
              "      <td>1509</td>\n",
              "      <td>1509</td>\n",
              "    </tr>\n",
              "    <tr>\n",
              "      <th>B_CRIA</th>\n",
              "      <td>2625</td>\n",
              "      <td>2625</td>\n",
              "      <td>2625</td>\n",
              "      <td>2625</td>\n",
              "      <td>2625</td>\n",
              "    </tr>\n",
              "    <tr>\n",
              "      <th>B_DEFN</th>\n",
              "      <td>10914</td>\n",
              "      <td>10914</td>\n",
              "      <td>10914</td>\n",
              "      <td>10914</td>\n",
              "      <td>10914</td>\n",
              "    </tr>\n",
              "    <tr>\n",
              "      <th>B_JUDP</th>\n",
              "      <td>1195</td>\n",
              "      <td>1195</td>\n",
              "      <td>1195</td>\n",
              "      <td>1195</td>\n",
              "      <td>1195</td>\n",
              "    </tr>\n",
              "    <tr>\n",
              "      <th>B_JUG</th>\n",
              "      <td>2243</td>\n",
              "      <td>2243</td>\n",
              "      <td>2243</td>\n",
              "      <td>2243</td>\n",
              "      <td>2243</td>\n",
              "    </tr>\n",
              "    <tr>\n",
              "      <th>B_PENA</th>\n",
              "      <td>603</td>\n",
              "      <td>603</td>\n",
              "      <td>603</td>\n",
              "      <td>603</td>\n",
              "      <td>603</td>\n",
              "    </tr>\n",
              "    <tr>\n",
              "      <th>B_PROS</th>\n",
              "      <td>549</td>\n",
              "      <td>549</td>\n",
              "      <td>549</td>\n",
              "      <td>549</td>\n",
              "      <td>549</td>\n",
              "    </tr>\n",
              "    <tr>\n",
              "      <th>B_PUNI</th>\n",
              "      <td>755</td>\n",
              "      <td>755</td>\n",
              "      <td>755</td>\n",
              "      <td>755</td>\n",
              "      <td>755</td>\n",
              "    </tr>\n",
              "    <tr>\n",
              "      <th>B_REGI</th>\n",
              "      <td>1138</td>\n",
              "      <td>1138</td>\n",
              "      <td>1138</td>\n",
              "      <td>1138</td>\n",
              "      <td>1138</td>\n",
              "    </tr>\n",
              "    <tr>\n",
              "      <th>B_TIMV</th>\n",
              "      <td>638</td>\n",
              "      <td>638</td>\n",
              "      <td>638</td>\n",
              "      <td>638</td>\n",
              "      <td>638</td>\n",
              "    </tr>\n",
              "    <tr>\n",
              "      <th>B_VERN</th>\n",
              "      <td>1846</td>\n",
              "      <td>1846</td>\n",
              "      <td>1846</td>\n",
              "      <td>1846</td>\n",
              "      <td>1846</td>\n",
              "    </tr>\n",
              "    <tr>\n",
              "      <th>I_ARTV</th>\n",
              "      <td>14784</td>\n",
              "      <td>14784</td>\n",
              "      <td>14784</td>\n",
              "      <td>14784</td>\n",
              "      <td>14784</td>\n",
              "    </tr>\n",
              "    <tr>\n",
              "      <th>I_CRIA</th>\n",
              "      <td>3592</td>\n",
              "      <td>3592</td>\n",
              "      <td>3592</td>\n",
              "      <td>3592</td>\n",
              "      <td>3592</td>\n",
              "    </tr>\n",
              "    <tr>\n",
              "      <th>I_DEFN</th>\n",
              "      <td>28295</td>\n",
              "      <td>28295</td>\n",
              "      <td>28295</td>\n",
              "      <td>28295</td>\n",
              "      <td>28295</td>\n",
              "    </tr>\n",
              "    <tr>\n",
              "      <th>I_JUDP</th>\n",
              "      <td>1382</td>\n",
              "      <td>1382</td>\n",
              "      <td>1382</td>\n",
              "      <td>1382</td>\n",
              "      <td>1382</td>\n",
              "    </tr>\n",
              "    <tr>\n",
              "      <th>I_JUG</th>\n",
              "      <td>3408</td>\n",
              "      <td>3408</td>\n",
              "      <td>3408</td>\n",
              "      <td>3408</td>\n",
              "      <td>3408</td>\n",
              "    </tr>\n",
              "    <tr>\n",
              "      <th>I_PENA</th>\n",
              "      <td>3758</td>\n",
              "      <td>3758</td>\n",
              "      <td>3758</td>\n",
              "      <td>3758</td>\n",
              "      <td>3758</td>\n",
              "    </tr>\n",
              "    <tr>\n",
              "      <th>I_PROS</th>\n",
              "      <td>895</td>\n",
              "      <td>895</td>\n",
              "      <td>895</td>\n",
              "      <td>895</td>\n",
              "      <td>895</td>\n",
              "    </tr>\n",
              "    <tr>\n",
              "      <th>I_PUNI</th>\n",
              "      <td>4279</td>\n",
              "      <td>4279</td>\n",
              "      <td>4279</td>\n",
              "      <td>4279</td>\n",
              "      <td>4279</td>\n",
              "    </tr>\n",
              "    <tr>\n",
              "      <th>I_REGI</th>\n",
              "      <td>1494</td>\n",
              "      <td>1494</td>\n",
              "      <td>1494</td>\n",
              "      <td>1494</td>\n",
              "      <td>1494</td>\n",
              "    </tr>\n",
              "    <tr>\n",
              "      <th>I_TIMV</th>\n",
              "      <td>1434</td>\n",
              "      <td>1434</td>\n",
              "      <td>1434</td>\n",
              "      <td>1434</td>\n",
              "      <td>1434</td>\n",
              "    </tr>\n",
              "    <tr>\n",
              "      <th>I_VERN</th>\n",
              "      <td>16703</td>\n",
              "      <td>16703</td>\n",
              "      <td>16703</td>\n",
              "      <td>16703</td>\n",
              "      <td>16703</td>\n",
              "    </tr>\n",
              "    <tr>\n",
              "      <th>O</th>\n",
              "      <td>3978153</td>\n",
              "      <td>3978153</td>\n",
              "      <td>3978153</td>\n",
              "      <td>3978153</td>\n",
              "      <td>3978153</td>\n",
              "    </tr>\n",
              "  </tbody>\n",
              "</table>\n",
              "</div>"
            ],
            "text/plain": [
              "            doc  sentence     word     prev     next\n",
              "tag                                                 \n",
              "B_ARTV     1509      1509     1509     1509     1509\n",
              "B_CRIA     2625      2625     2625     2625     2625\n",
              "B_DEFN    10914     10914    10914    10914    10914\n",
              "B_JUDP     1195      1195     1195     1195     1195\n",
              "B_JUG      2243      2243     2243     2243     2243\n",
              "B_PENA      603       603      603      603      603\n",
              "B_PROS      549       549      549      549      549\n",
              "B_PUNI      755       755      755      755      755\n",
              "B_REGI     1138      1138     1138     1138     1138\n",
              "B_TIMV      638       638      638      638      638\n",
              "B_VERN     1846      1846     1846     1846     1846\n",
              "I_ARTV    14784     14784    14784    14784    14784\n",
              "I_CRIA     3592      3592     3592     3592     3592\n",
              "I_DEFN    28295     28295    28295    28295    28295\n",
              "I_JUDP     1382      1382     1382     1382     1382\n",
              "I_JUG      3408      3408     3408     3408     3408\n",
              "I_PENA     3758      3758     3758     3758     3758\n",
              "I_PROS      895       895      895      895      895\n",
              "I_PUNI     4279      4279     4279     4279     4279\n",
              "I_REGI     1494      1494     1494     1494     1494\n",
              "I_TIMV     1434      1434     1434     1434     1434\n",
              "I_VERN    16703     16703    16703    16703    16703\n",
              "O       3978153   3978153  3978153  3978153  3978153"
            ]
          },
          "execution_count": 6,
          "metadata": {},
          "output_type": "execute_result"
        }
      ],
      "source": [
        "data.groupby('tag').count()"
      ]
    },
    {
      "cell_type": "markdown",
      "metadata": {
        "id": "a-9o_5h6jneR"
      },
      "source": [
        "### Menghapus Sentence dengan tag O yang dominan"
      ]
    },
    {
      "cell_type": "code",
      "execution_count": 7,
      "metadata": {
        "colab": {
          "base_uri": "https://localhost:8080/",
          "height": 424
        },
        "execution": {
          "iopub.execute_input": "2024-06-28T12:11:14.301232Z",
          "iopub.status.busy": "2024-06-28T12:11:14.300790Z",
          "iopub.status.idle": "2024-06-28T12:13:13.970549Z",
          "shell.execute_reply": "2024-06-28T12:13:13.969566Z",
          "shell.execute_reply.started": "2024-06-28T12:11:14.301195Z"
        },
        "id": "bZKl4U-vjneR",
        "outputId": "ba018ce5-54b9-4fef-b719-1ca65d0c1fde",
        "trusted": true
      },
      "outputs": [
        {
          "data": {
            "text/html": [
              "<div>\n",
              "<style scoped>\n",
              "    .dataframe tbody tr th:only-of-type {\n",
              "        vertical-align: middle;\n",
              "    }\n",
              "\n",
              "    .dataframe tbody tr th {\n",
              "        vertical-align: top;\n",
              "    }\n",
              "\n",
              "    .dataframe thead th {\n",
              "        text-align: right;\n",
              "    }\n",
              "</style>\n",
              "<table border=\"1\" class=\"dataframe\">\n",
              "  <thead>\n",
              "    <tr style=\"text-align: right;\">\n",
              "      <th></th>\n",
              "      <th>doc</th>\n",
              "      <th>sentence</th>\n",
              "      <th>word</th>\n",
              "      <th>prev</th>\n",
              "      <th>next</th>\n",
              "      <th>tag</th>\n",
              "    </tr>\n",
              "  </thead>\n",
              "  <tbody>\n",
              "    <tr>\n",
              "      <th>0</th>\n",
              "      <td>doc:0</td>\n",
              "      <td>sentence: 000001</td>\n",
              "      <td>putusan</td>\n",
              "      <td>.</td>\n",
              "      <td>nomor</td>\n",
              "      <td>O</td>\n",
              "    </tr>\n",
              "    <tr>\n",
              "      <th>1</th>\n",
              "      <td>doc:0</td>\n",
              "      <td>sentence: 000001</td>\n",
              "      <td>nomor</td>\n",
              "      <td>putusan</td>\n",
              "      <td>48</td>\n",
              "      <td>O</td>\n",
              "    </tr>\n",
              "    <tr>\n",
              "      <th>2</th>\n",
              "      <td>doc:0</td>\n",
              "      <td>sentence: 000001</td>\n",
              "      <td>&lt;48&gt;</td>\n",
              "      <td>nomor</td>\n",
              "      <td>/</td>\n",
              "      <td>B_VERN</td>\n",
              "    </tr>\n",
              "    <tr>\n",
              "      <th>3</th>\n",
              "      <td>doc:0</td>\n",
              "      <td>sentence: 000001</td>\n",
              "      <td>/</td>\n",
              "      <td>48</td>\n",
              "      <td>pid</td>\n",
              "      <td>I_VERN</td>\n",
              "    </tr>\n",
              "    <tr>\n",
              "      <th>4</th>\n",
              "      <td>doc:0</td>\n",
              "      <td>sentence: 000001</td>\n",
              "      <td>pid</td>\n",
              "      <td>/</td>\n",
              "      <td>.</td>\n",
              "      <td>I_VERN</td>\n",
              "    </tr>\n",
              "    <tr>\n",
              "      <th>...</th>\n",
              "      <td>...</td>\n",
              "      <td>...</td>\n",
              "      <td>...</td>\n",
              "      <td>...</td>\n",
              "      <td>...</td>\n",
              "      <td>...</td>\n",
              "    </tr>\n",
              "    <tr>\n",
              "      <th>1257467</th>\n",
              "      <td>doc:601</td>\n",
              "      <td>sentence: 078262</td>\n",
              "      <td>panitera</td>\n",
              "      <td>.</td>\n",
              "      <td>pengganti</td>\n",
              "      <td>O</td>\n",
              "    </tr>\n",
              "    <tr>\n",
              "      <th>1257468</th>\n",
              "      <td>doc:601</td>\n",
              "      <td>sentence: 078262</td>\n",
              "      <td>pengganti</td>\n",
              "      <td>panitera</td>\n",
              "      <td>,</td>\n",
              "      <td>O</td>\n",
              "    </tr>\n",
              "    <tr>\n",
              "      <th>1257469</th>\n",
              "      <td>doc:601</td>\n",
              "      <td>sentence: 078262</td>\n",
              "      <td>,</td>\n",
              "      <td>pengganti</td>\n",
              "      <td>ttd</td>\n",
              "      <td>O</td>\n",
              "    </tr>\n",
              "    <tr>\n",
              "      <th>1257470</th>\n",
              "      <td>doc:601</td>\n",
              "      <td>sentence: 078262</td>\n",
              "      <td>ttd</td>\n",
              "      <td>,</td>\n",
              "      <td>suraji</td>\n",
              "      <td>O</td>\n",
              "    </tr>\n",
              "    <tr>\n",
              "      <th>1257471</th>\n",
              "      <td>doc:601</td>\n",
              "      <td>sentence: 078262</td>\n",
              "      <td>suraji</td>\n",
              "      <td>ttd</td>\n",
              "      <td>.</td>\n",
              "      <td>B_REGI</td>\n",
              "    </tr>\n",
              "  </tbody>\n",
              "</table>\n",
              "<p>1257472 rows × 6 columns</p>\n",
              "</div>"
            ],
            "text/plain": [
              "             doc          sentence       word       prev       next     tag\n",
              "0          doc:0  sentence: 000001    putusan          .      nomor       O\n",
              "1          doc:0  sentence: 000001      nomor    putusan         48       O\n",
              "2          doc:0  sentence: 000001       <48>      nomor          /  B_VERN\n",
              "3          doc:0  sentence: 000001          /         48        pid  I_VERN\n",
              "4          doc:0  sentence: 000001        pid          /          .  I_VERN\n",
              "...          ...               ...        ...        ...        ...     ...\n",
              "1257467  doc:601  sentence: 078262   panitera          .  pengganti       O\n",
              "1257468  doc:601  sentence: 078262  pengganti   panitera          ,       O\n",
              "1257469  doc:601  sentence: 078262          ,  pengganti        ttd       O\n",
              "1257470  doc:601  sentence: 078262        ttd          ,     suraji       O\n",
              "1257471  doc:601  sentence: 078262     suraji        ttd          .  B_REGI\n",
              "\n",
              "[1257472 rows x 6 columns]"
            ]
          },
          "execution_count": 7,
          "metadata": {},
          "output_type": "execute_result"
        }
      ],
      "source": [
        "data['tag'] = data['tag'].apply(lambda x: [x])\n",
        "# Gabungkan tags dalam sentence yang sama dan hapus sentence yang hanya berisi tag 'O'\n",
        "df_combined = (\n",
        "    data.groupby(['doc', 'sentence'])['tag']\n",
        "    .agg(lambda x: sum(x, []))\n",
        "    .apply(lambda tags: tags if any(tag != 'O' for tag in tags) else [])\n",
        "    .reset_index(name='tag')\n",
        ")\n",
        "\n",
        "# Hapus baris yang tidak memiliki tag atau memiliki tag kosong\n",
        "df_combined = df_combined[df_combined['tag'].apply(lambda x: bool(x))]\n",
        "\n",
        "# Buat DataFrame baru hanya berisi baris yang sesuai dengan df_combined\n",
        "filtered_df = data[data['sentence'].isin(df_combined['sentence'])]\n",
        "\n",
        "# Pisahkan df_combined per tag dan isi sentence berdasarkan tag yang dipisah tadi\n",
        "result_rows = []\n",
        "for index, row in filtered_df.iterrows():\n",
        "    for tag in row['tag']:\n",
        "        result_rows.append({\n",
        "            'doc': row['doc'],\n",
        "            'sentence': row['sentence'],\n",
        "            'word': row['word'],\n",
        "            'prev': row['prev'],\n",
        "            'next': row['next'],\n",
        "            'tag': tag\n",
        "        })\n",
        "\n",
        "# Tampilkan dataframe setelah penggabungan, penghapusan, pemisahan kembali tags, dan pengisian kolom 'sentence'\n",
        "data = pd.DataFrame(result_rows)\n",
        "\n",
        "# Tampilkan dataframe hasil\n",
        "data"
      ]
    },
    {
      "cell_type": "code",
      "execution_count": 8,
      "metadata": {
        "colab": {
          "base_uri": "https://localhost:8080/",
          "height": 802
        },
        "execution": {
          "iopub.execute_input": "2024-06-28T12:13:13.972141Z",
          "iopub.status.busy": "2024-06-28T12:13:13.971794Z",
          "iopub.status.idle": "2024-06-28T12:13:14.739247Z",
          "shell.execute_reply": "2024-06-28T12:13:14.738226Z",
          "shell.execute_reply.started": "2024-06-28T12:13:13.972114Z"
        },
        "id": "A1BuqTbxjneR",
        "outputId": "945c118c-dce8-4523-aff8-83f5f5363ea2",
        "trusted": true
      },
      "outputs": [
        {
          "data": {
            "text/html": [
              "<div>\n",
              "<style scoped>\n",
              "    .dataframe tbody tr th:only-of-type {\n",
              "        vertical-align: middle;\n",
              "    }\n",
              "\n",
              "    .dataframe tbody tr th {\n",
              "        vertical-align: top;\n",
              "    }\n",
              "\n",
              "    .dataframe thead th {\n",
              "        text-align: right;\n",
              "    }\n",
              "</style>\n",
              "<table border=\"1\" class=\"dataframe\">\n",
              "  <thead>\n",
              "    <tr style=\"text-align: right;\">\n",
              "      <th></th>\n",
              "      <th>doc</th>\n",
              "      <th>sentence</th>\n",
              "      <th>word</th>\n",
              "      <th>prev</th>\n",
              "      <th>next</th>\n",
              "    </tr>\n",
              "    <tr>\n",
              "      <th>tag</th>\n",
              "      <th></th>\n",
              "      <th></th>\n",
              "      <th></th>\n",
              "      <th></th>\n",
              "      <th></th>\n",
              "    </tr>\n",
              "  </thead>\n",
              "  <tbody>\n",
              "    <tr>\n",
              "      <th>B_ARTV</th>\n",
              "      <td>1509</td>\n",
              "      <td>1509</td>\n",
              "      <td>1509</td>\n",
              "      <td>1509</td>\n",
              "      <td>1509</td>\n",
              "    </tr>\n",
              "    <tr>\n",
              "      <th>B_CRIA</th>\n",
              "      <td>2625</td>\n",
              "      <td>2625</td>\n",
              "      <td>2625</td>\n",
              "      <td>2625</td>\n",
              "      <td>2625</td>\n",
              "    </tr>\n",
              "    <tr>\n",
              "      <th>B_DEFN</th>\n",
              "      <td>10914</td>\n",
              "      <td>10914</td>\n",
              "      <td>10914</td>\n",
              "      <td>10914</td>\n",
              "      <td>10914</td>\n",
              "    </tr>\n",
              "    <tr>\n",
              "      <th>B_JUDP</th>\n",
              "      <td>1195</td>\n",
              "      <td>1195</td>\n",
              "      <td>1195</td>\n",
              "      <td>1195</td>\n",
              "      <td>1195</td>\n",
              "    </tr>\n",
              "    <tr>\n",
              "      <th>B_JUG</th>\n",
              "      <td>2243</td>\n",
              "      <td>2243</td>\n",
              "      <td>2243</td>\n",
              "      <td>2243</td>\n",
              "      <td>2243</td>\n",
              "    </tr>\n",
              "    <tr>\n",
              "      <th>B_PENA</th>\n",
              "      <td>603</td>\n",
              "      <td>603</td>\n",
              "      <td>603</td>\n",
              "      <td>603</td>\n",
              "      <td>603</td>\n",
              "    </tr>\n",
              "    <tr>\n",
              "      <th>B_PROS</th>\n",
              "      <td>549</td>\n",
              "      <td>549</td>\n",
              "      <td>549</td>\n",
              "      <td>549</td>\n",
              "      <td>549</td>\n",
              "    </tr>\n",
              "    <tr>\n",
              "      <th>B_PUNI</th>\n",
              "      <td>755</td>\n",
              "      <td>755</td>\n",
              "      <td>755</td>\n",
              "      <td>755</td>\n",
              "      <td>755</td>\n",
              "    </tr>\n",
              "    <tr>\n",
              "      <th>B_REGI</th>\n",
              "      <td>1138</td>\n",
              "      <td>1138</td>\n",
              "      <td>1138</td>\n",
              "      <td>1138</td>\n",
              "      <td>1138</td>\n",
              "    </tr>\n",
              "    <tr>\n",
              "      <th>B_TIMV</th>\n",
              "      <td>638</td>\n",
              "      <td>638</td>\n",
              "      <td>638</td>\n",
              "      <td>638</td>\n",
              "      <td>638</td>\n",
              "    </tr>\n",
              "    <tr>\n",
              "      <th>B_VERN</th>\n",
              "      <td>1846</td>\n",
              "      <td>1846</td>\n",
              "      <td>1846</td>\n",
              "      <td>1846</td>\n",
              "      <td>1846</td>\n",
              "    </tr>\n",
              "    <tr>\n",
              "      <th>I_ARTV</th>\n",
              "      <td>14784</td>\n",
              "      <td>14784</td>\n",
              "      <td>14784</td>\n",
              "      <td>14784</td>\n",
              "      <td>14784</td>\n",
              "    </tr>\n",
              "    <tr>\n",
              "      <th>I_CRIA</th>\n",
              "      <td>3592</td>\n",
              "      <td>3592</td>\n",
              "      <td>3592</td>\n",
              "      <td>3592</td>\n",
              "      <td>3592</td>\n",
              "    </tr>\n",
              "    <tr>\n",
              "      <th>I_DEFN</th>\n",
              "      <td>28295</td>\n",
              "      <td>28295</td>\n",
              "      <td>28295</td>\n",
              "      <td>28295</td>\n",
              "      <td>28295</td>\n",
              "    </tr>\n",
              "    <tr>\n",
              "      <th>I_JUDP</th>\n",
              "      <td>1382</td>\n",
              "      <td>1382</td>\n",
              "      <td>1382</td>\n",
              "      <td>1382</td>\n",
              "      <td>1382</td>\n",
              "    </tr>\n",
              "    <tr>\n",
              "      <th>I_JUG</th>\n",
              "      <td>3408</td>\n",
              "      <td>3408</td>\n",
              "      <td>3408</td>\n",
              "      <td>3408</td>\n",
              "      <td>3408</td>\n",
              "    </tr>\n",
              "    <tr>\n",
              "      <th>I_PENA</th>\n",
              "      <td>3758</td>\n",
              "      <td>3758</td>\n",
              "      <td>3758</td>\n",
              "      <td>3758</td>\n",
              "      <td>3758</td>\n",
              "    </tr>\n",
              "    <tr>\n",
              "      <th>I_PROS</th>\n",
              "      <td>895</td>\n",
              "      <td>895</td>\n",
              "      <td>895</td>\n",
              "      <td>895</td>\n",
              "      <td>895</td>\n",
              "    </tr>\n",
              "    <tr>\n",
              "      <th>I_PUNI</th>\n",
              "      <td>4279</td>\n",
              "      <td>4279</td>\n",
              "      <td>4279</td>\n",
              "      <td>4279</td>\n",
              "      <td>4279</td>\n",
              "    </tr>\n",
              "    <tr>\n",
              "      <th>I_REGI</th>\n",
              "      <td>1494</td>\n",
              "      <td>1494</td>\n",
              "      <td>1494</td>\n",
              "      <td>1494</td>\n",
              "      <td>1494</td>\n",
              "    </tr>\n",
              "    <tr>\n",
              "      <th>I_TIMV</th>\n",
              "      <td>1434</td>\n",
              "      <td>1434</td>\n",
              "      <td>1434</td>\n",
              "      <td>1434</td>\n",
              "      <td>1434</td>\n",
              "    </tr>\n",
              "    <tr>\n",
              "      <th>I_VERN</th>\n",
              "      <td>16703</td>\n",
              "      <td>16703</td>\n",
              "      <td>16703</td>\n",
              "      <td>16703</td>\n",
              "      <td>16703</td>\n",
              "    </tr>\n",
              "    <tr>\n",
              "      <th>O</th>\n",
              "      <td>1153433</td>\n",
              "      <td>1153433</td>\n",
              "      <td>1153433</td>\n",
              "      <td>1153433</td>\n",
              "      <td>1153433</td>\n",
              "    </tr>\n",
              "  </tbody>\n",
              "</table>\n",
              "</div>"
            ],
            "text/plain": [
              "            doc  sentence     word     prev     next\n",
              "tag                                                 \n",
              "B_ARTV     1509      1509     1509     1509     1509\n",
              "B_CRIA     2625      2625     2625     2625     2625\n",
              "B_DEFN    10914     10914    10914    10914    10914\n",
              "B_JUDP     1195      1195     1195     1195     1195\n",
              "B_JUG      2243      2243     2243     2243     2243\n",
              "B_PENA      603       603      603      603      603\n",
              "B_PROS      549       549      549      549      549\n",
              "B_PUNI      755       755      755      755      755\n",
              "B_REGI     1138      1138     1138     1138     1138\n",
              "B_TIMV      638       638      638      638      638\n",
              "B_VERN     1846      1846     1846     1846     1846\n",
              "I_ARTV    14784     14784    14784    14784    14784\n",
              "I_CRIA     3592      3592     3592     3592     3592\n",
              "I_DEFN    28295     28295    28295    28295    28295\n",
              "I_JUDP     1382      1382     1382     1382     1382\n",
              "I_JUG      3408      3408     3408     3408     3408\n",
              "I_PENA     3758      3758     3758     3758     3758\n",
              "I_PROS      895       895      895      895      895\n",
              "I_PUNI     4279      4279     4279     4279     4279\n",
              "I_REGI     1494      1494     1494     1494     1494\n",
              "I_TIMV     1434      1434     1434     1434     1434\n",
              "I_VERN    16703     16703    16703    16703    16703\n",
              "O       1153433   1153433  1153433  1153433  1153433"
            ]
          },
          "execution_count": 8,
          "metadata": {},
          "output_type": "execute_result"
        }
      ],
      "source": [
        "data.groupby('tag').count()"
      ]
    },
    {
      "cell_type": "code",
      "execution_count": 9,
      "metadata": {
        "colab": {
          "base_uri": "https://localhost:8080/"
        },
        "execution": {
          "iopub.execute_input": "2024-06-28T12:13:14.740761Z",
          "iopub.status.busy": "2024-06-28T12:13:14.740485Z",
          "iopub.status.idle": "2024-06-28T12:13:14.830901Z",
          "shell.execute_reply": "2024-06-28T12:13:14.829743Z",
          "shell.execute_reply.started": "2024-06-28T12:13:14.740738Z"
        },
        "id": "c7cpA_FvjneS",
        "outputId": "417742a0-87f1-4571-e595-be95e07bf4b8",
        "trusted": true
      },
      "outputs": [
        {
          "data": {
            "text/plain": [
              "23157"
            ]
          },
          "execution_count": 9,
          "metadata": {},
          "output_type": "execute_result"
        }
      ],
      "source": [
        "words = list(set(data[\"word\"].values))\n",
        "words.append(\"ENDPAD\")\n",
        "n_words = len(words)\n",
        "n_words"
      ]
    },
    {
      "cell_type": "code",
      "execution_count": 10,
      "metadata": {
        "colab": {
          "base_uri": "https://localhost:8080/"
        },
        "execution": {
          "iopub.execute_input": "2024-06-28T12:13:14.836416Z",
          "iopub.status.busy": "2024-06-28T12:13:14.835966Z",
          "iopub.status.idle": "2024-06-28T12:13:14.886346Z",
          "shell.execute_reply": "2024-06-28T12:13:14.885146Z",
          "shell.execute_reply.started": "2024-06-28T12:13:14.836387Z"
        },
        "id": "3ivL1YwTjneS",
        "outputId": "76d328cb-8d47-4fb3-9f3a-046eb5af2f95",
        "trusted": true
      },
      "outputs": [
        {
          "data": {
            "text/plain": [
              "23"
            ]
          },
          "execution_count": 10,
          "metadata": {},
          "output_type": "execute_result"
        }
      ],
      "source": [
        "tags = sorted(list(set(data[\"tag\"])))\n",
        "n_tags = len(tags)\n",
        "n_tags"
      ]
    },
    {
      "cell_type": "markdown",
      "metadata": {
        "id": "CcCY22U-jneX"
      },
      "source": [
        "### Mengelompokan Dataset per Sentence"
      ]
    },
    {
      "cell_type": "code",
      "execution_count": 11,
      "metadata": {
        "execution": {
          "iopub.execute_input": "2024-06-28T12:13:14.888192Z",
          "iopub.status.busy": "2024-06-28T12:13:14.887811Z",
          "iopub.status.idle": "2024-06-28T12:13:14.896993Z",
          "shell.execute_reply": "2024-06-28T12:13:14.896016Z",
          "shell.execute_reply.started": "2024-06-28T12:13:14.888157Z"
        },
        "id": "7acIBMgmjneY",
        "trusted": true
      },
      "outputs": [],
      "source": [
        "class SentenceGetter(object):\n",
        "\n",
        "    def __init__(self, data):\n",
        "        self.n_sent = 1\n",
        "        self.data = data\n",
        "        self.empty = False\n",
        "        agg_func = lambda s: [(w, t) for w, t in zip(s[\"word\"].values.tolist(),\n",
        "                                                           s[\"tag\"].values.tolist())]\n",
        "        self.grouped = self.data.groupby(\"sentence\").apply(agg_func)\n",
        "        self.sentences = [s for s in self.grouped]\n",
        "\n",
        "    def get_next(self):\n",
        "        try:\n",
        "            s = self.grouped[self.n_sent]\n",
        "            self.n_sent += 1\n",
        "            return s\n",
        "        except:\n",
        "            return None"
      ]
    },
    {
      "cell_type": "code",
      "execution_count": 12,
      "metadata": {
        "execution": {
          "iopub.execute_input": "2024-06-28T12:13:14.899323Z",
          "iopub.status.busy": "2024-06-28T12:13:14.898630Z",
          "iopub.status.idle": "2024-06-28T12:13:16.586331Z",
          "shell.execute_reply": "2024-06-28T12:13:16.585271Z",
          "shell.execute_reply.started": "2024-06-28T12:13:14.899248Z"
        },
        "id": "eDcfx_rkjneY",
        "trusted": true
      },
      "outputs": [],
      "source": [
        "getter = SentenceGetter(data)\n",
        "sentences = getter.sentences"
      ]
    },
    {
      "cell_type": "markdown",
      "metadata": {
        "id": "cpBVf7xvjneY"
      },
      "source": [
        "## Word Embedding CBOW"
      ]
    },
    {
      "cell_type": "code",
      "execution_count": 13,
      "metadata": {
        "execution": {
          "iopub.execute_input": "2024-06-28T12:13:17.075963Z",
          "iopub.status.busy": "2024-06-28T12:13:17.075658Z",
          "iopub.status.idle": "2024-06-28T12:13:33.542199Z",
          "shell.execute_reply": "2024-06-28T12:13:33.541411Z",
          "shell.execute_reply.started": "2024-06-28T12:13:17.075936Z"
        },
        "id": "WXSSkRlGjneY",
        "trusted": true
      },
      "outputs": [],
      "source": [
        "from gensim.models import Word2Vec"
      ]
    },
    {
      "cell_type": "code",
      "execution_count": 17,
      "metadata": {
        "execution": {
          "iopub.execute_input": "2024-06-28T12:13:33.543592Z",
          "iopub.status.busy": "2024-06-28T12:13:33.543315Z",
          "iopub.status.idle": "2024-06-28T12:13:38.436429Z",
          "shell.execute_reply": "2024-06-28T12:13:38.435315Z",
          "shell.execute_reply.started": "2024-06-28T12:13:33.543567Z"
        },
        "id": "5NLaxE86jneY",
        "trusted": true
      },
      "outputs": [],
      "source": [
        "# sentences_words = [[w[0] for w in s] for s in sentences]\n",
        "# cbow_model = Word2Vec(sentences_words, vector_size=10, window=5, min_count=1, sg=0, seed=42)\n",
        "# cbow_model.save(\"Model_CBOW\\CBOWModel.model\")"
      ]
    },
    {
      "cell_type": "markdown",
      "metadata": {
        "id": "tWAZpll7jneZ"
      },
      "source": [
        "Load Model CBOW"
      ]
    },
    {
      "cell_type": "code",
      "execution_count": 18,
      "metadata": {
        "colab": {
          "base_uri": "https://localhost:8080/"
        },
        "execution": {
          "iopub.execute_input": "2024-06-28T12:13:38.438174Z",
          "iopub.status.busy": "2024-06-28T12:13:38.437770Z",
          "iopub.status.idle": "2024-06-28T12:13:38.443066Z",
          "shell.execute_reply": "2024-06-28T12:13:38.442061Z",
          "shell.execute_reply.started": "2024-06-28T12:13:38.438138Z"
        },
        "id": "FDwIzr7TjneZ",
        "outputId": "b2e26025-4aa0-4f6f-948e-ec5eab328d0e",
        "trusted": true
      },
      "outputs": [],
      "source": [
        "cbow_model = Word2Vec.load(\"Model_CBOW\\CBOWModel.model\")"
      ]
    },
    {
      "cell_type": "code",
      "execution_count": 19,
      "metadata": {
        "execution": {
          "iopub.execute_input": "2024-06-28T12:13:38.444702Z",
          "iopub.status.busy": "2024-06-28T12:13:38.444358Z",
          "iopub.status.idle": "2024-06-28T12:13:38.450581Z",
          "shell.execute_reply": "2024-06-28T12:13:38.449642Z",
          "shell.execute_reply.started": "2024-06-28T12:13:38.444676Z"
        },
        "id": "3NxzyRlzjneZ",
        "trusted": true
      },
      "outputs": [],
      "source": [
        "tag2idx = {t: i for i, t in enumerate(tags)}\n",
        "\n",
        "idx2tag = {i: w for w, i in tag2idx.items()}"
      ]
    },
    {
      "cell_type": "code",
      "execution_count": 20,
      "metadata": {
        "execution": {
          "iopub.execute_input": "2024-06-28T12:13:38.460052Z",
          "iopub.status.busy": "2024-06-28T12:13:38.459709Z",
          "iopub.status.idle": "2024-06-28T12:13:38.466794Z",
          "shell.execute_reply": "2024-06-28T12:13:38.465847Z",
          "shell.execute_reply.started": "2024-06-28T12:13:38.460019Z"
        },
        "id": "PoG_hANtjneZ",
        "trusted": true
      },
      "outputs": [],
      "source": [
        "def get_word_embedding(word):\n",
        "    if word in cbow_model.wv:\n",
        "        return cbow_model.wv[word]\n",
        "    else:\n",
        "        return np.zeros(cbow_model.vector_size)"
      ]
    },
    {
      "cell_type": "code",
      "execution_count": 21,
      "metadata": {
        "execution": {
          "iopub.execute_input": "2024-06-28T12:13:38.468406Z",
          "iopub.status.busy": "2024-06-28T12:13:38.468066Z",
          "iopub.status.idle": "2024-06-28T12:13:44.146811Z",
          "shell.execute_reply": "2024-06-28T12:13:44.145802Z",
          "shell.execute_reply.started": "2024-06-28T12:13:38.468380Z"
        },
        "id": "Yvwxla7IjneZ",
        "trusted": true
      },
      "outputs": [],
      "source": [
        "from tensorflow.keras.utils import pad_sequences\n",
        "from keras.utils import to_categorical\n",
        "X = [[get_word_embedding(w[0]) for w in s] for s in sentences]\n",
        "X = pad_sequences(maxlen=MAX_LEN, sequences=X, padding=\"post\", dtype='float32', value=np.zeros(cbow_model.vector_size))\n",
        "\n",
        "y = [[tag2idx[w[1]] for w in s] for s in sentences]\n",
        "y = pad_sequences(maxlen=MAX_LEN, sequences=y, padding=\"post\", value=tag2idx[\"O\"])\n",
        "y = [to_categorical(i, num_classes=n_tags+1) for i in y]"
      ]
    },
    {
      "cell_type": "markdown",
      "metadata": {
        "id": "3zYq_M-TjneZ"
      },
      "source": [
        "## Spliting Data"
      ]
    },
    {
      "cell_type": "code",
      "execution_count": 22,
      "metadata": {
        "colab": {
          "base_uri": "https://localhost:8080/"
        },
        "execution": {
          "iopub.execute_input": "2024-06-28T12:13:44.153936Z",
          "iopub.status.busy": "2024-06-28T12:13:44.153634Z",
          "iopub.status.idle": "2024-06-28T12:13:44.472507Z",
          "shell.execute_reply": "2024-06-28T12:13:44.471465Z",
          "shell.execute_reply.started": "2024-06-28T12:13:44.153911Z"
        },
        "id": "7eq-hoJjjneZ",
        "outputId": "cfe6ca43-3e1e-4a0f-e5be-6cf352dc7105",
        "trusted": true
      },
      "outputs": [
        {
          "data": {
            "text/plain": [
              "((9133, 200, 10), (2284, 200, 10), (9133, 200, 24), (2284, 200, 24))"
            ]
          },
          "execution_count": 22,
          "metadata": {},
          "output_type": "execute_result"
        }
      ],
      "source": [
        "from sklearn.model_selection import train_test_split\n",
        "X_tr, X_te, y_tr, y_te = train_test_split(X, y, test_size=0.2, shuffle=False,random_state=42)\n",
        "X_tr.shape, X_te.shape, np.array(y_tr).shape, np.array(y_te).shape"
      ]
    },
    {
      "cell_type": "markdown",
      "metadata": {
        "id": "8eYiGcP_jnea"
      },
      "source": [
        "## Modeling"
      ]
    },
    {
      "cell_type": "markdown",
      "metadata": {
        "id": "7EE8hN1Tjnea"
      },
      "source": [
        "## Skenario I (SGD)"
      ]
    },
    {
      "cell_type": "code",
      "execution_count": 23,
      "metadata": {
        "execution": {
          "iopub.execute_input": "2024-06-28T12:13:44.481796Z",
          "iopub.status.busy": "2024-06-28T12:13:44.481510Z",
          "iopub.status.idle": "2024-06-28T12:13:45.817745Z",
          "shell.execute_reply": "2024-06-28T12:13:45.816801Z",
          "shell.execute_reply.started": "2024-06-28T12:13:44.481772Z"
        },
        "id": "1URum1JWjnea",
        "trusted": true
      },
      "outputs": [
        {
          "name": "stdout",
          "output_type": "stream",
          "text": [
            "WARNING:tensorflow:From c:\\Users\\HP\\AppData\\Local\\Programs\\Python\\Python311\\Lib\\site-packages\\keras\\src\\backend.py:1398: The name tf.executing_eagerly_outside_functions is deprecated. Please use tf.compat.v1.executing_eagerly_outside_functions instead.\n",
            "\n",
            "WARNING:tensorflow:From c:\\Users\\HP\\AppData\\Local\\Programs\\Python\\Python311\\Lib\\site-packages\\keras\\src\\optimizers\\__init__.py:309: The name tf.train.Optimizer is deprecated. Please use tf.compat.v1.train.Optimizer instead.\n",
            "\n",
            "Model: \"model\"\n",
            "_________________________________________________________________\n",
            " Layer (type)                Output Shape              Param #   \n",
            "=================================================================\n",
            " input_1 (InputLayer)        [(None, 200, 10)]         0         \n",
            "                                                                 \n",
            " dropout (Dropout)           (None, 200, 10)           0         \n",
            "                                                                 \n",
            " bidirectional (Bidirection  (None, 200, 200)          88800     \n",
            " al)                                                             \n",
            "                                                                 \n",
            " time_distributed (TimeDist  (None, 200, 24)           4824      \n",
            " ributed)                                                        \n",
            "                                                                 \n",
            "=================================================================\n",
            "Total params: 93624 (365.72 KB)\n",
            "Trainable params: 93624 (365.72 KB)\n",
            "Non-trainable params: 0 (0.00 Byte)\n",
            "_________________________________________________________________\n"
          ]
        }
      ],
      "source": [
        "from keras import Model\n",
        "from keras import optimizers\n",
        "from keras.layers import Input, LSTM, Embedding, Dense, TimeDistributed, Dropout, Bidirectional, SpatialDropout1D, Reshape\n",
        "from keras.initializers import glorot_uniform\n",
        "from keras.utils import plot_model\n",
        "\n",
        "input = Input(shape=(MAX_LEN, cbow_model.vector_size))\n",
        "\n",
        "modelSGD = Dropout(0.1)(input)\n",
        "modelSGD = Bidirectional(LSTM(units=100, return_sequences=True, recurrent_dropout=0.1))(modelSGD)\n",
        "\n",
        "out = TimeDistributed(Dense(n_tags+1, activation=\"softmax\"))(modelSGD)  # softmax output layer\n",
        "\n",
        "modelSGD = Model(input, out)\n",
        "\n",
        "modelSGD.compile(\"sgd\", loss=\"categorical_crossentropy\", metrics=[\"accuracy\"])\n",
        "\n",
        "modelSGD.summary()"
      ]
    },
    {
      "cell_type": "markdown",
      "metadata": {
        "id": "Q5A6rJQCjnea"
      },
      "source": [
        "## Visualisasi Model"
      ]
    },
    {
      "cell_type": "code",
      "execution_count": 24,
      "metadata": {
        "execution": {
          "iopub.execute_input": "2024-06-28T12:13:45.819222Z",
          "iopub.status.busy": "2024-06-28T12:13:45.818938Z",
          "iopub.status.idle": "2024-06-28T12:14:19.820319Z",
          "shell.execute_reply": "2024-06-28T12:14:19.819171Z",
          "shell.execute_reply.started": "2024-06-28T12:13:45.819197Z"
        },
        "id": "FjSPMkUwjneb",
        "trusted": true
      },
      "outputs": [],
      "source": [
        "# ! pip install pydot graphviz"
      ]
    },
    {
      "cell_type": "code",
      "execution_count": 28,
      "metadata": {
        "execution": {
          "iopub.execute_input": "2024-06-28T12:14:19.822396Z",
          "iopub.status.busy": "2024-06-28T12:14:19.822025Z",
          "iopub.status.idle": "2024-06-28T12:14:20.110146Z",
          "shell.execute_reply": "2024-06-28T12:14:20.109133Z",
          "shell.execute_reply.started": "2024-06-28T12:14:19.822362Z"
        },
        "id": "cWSiBfKDjneb",
        "trusted": true
      },
      "outputs": [
        {
          "data": {
            "image/png": "[encoded data removed]",
            "text/plain": [
              "<IPython.core.display.Image object>"
            ]
          },
          "metadata": {},
          "output_type": "display_data"
        }
      ],
      "source": [
        "from keras.utils import plot_model\n",
        "\n",
        "plot_model(modelSGD, to_file='model_visualizationSGD.png', show_shapes=True, show_layer_names=True)\n",
        "\n",
        "from IPython.display import Image\n",
        "\n",
        "image_path = 'model_visualizationSGD.png'\n",
        "display(Image(filename=image_path))\n",
        "with open(image_path, 'rb') as img_file:\n",
        "    img_data = img_file.read()"
      ]
    },
    {
      "cell_type": "markdown",
      "metadata": {
        "id": "TTlrb-Qojneb"
      },
      "source": [
        "### Training Model Bi-LSTM (SGD)"
      ]
    },
    {
      "cell_type": "code",
      "execution_count": 29,
      "metadata": {
        "execution": {
          "iopub.execute_input": "2024-06-28T12:14:20.120355Z",
          "iopub.status.busy": "2024-06-28T12:14:20.119899Z",
          "iopub.status.idle": "2024-06-28T13:06:04.315195Z",
          "shell.execute_reply": "2024-06-28T13:06:04.314216Z",
          "shell.execute_reply.started": "2024-06-28T12:14:20.120315Z"
        },
        "id": "hcXpja31jneb",
        "trusted": true
      },
      "outputs": [
        {
          "name": "stdout",
          "output_type": "stream",
          "text": [
            "Epoch 1/50\n",
            "WARNING:tensorflow:From c:\\Users\\HP\\AppData\\Local\\Programs\\Python\\Python311\\Lib\\site-packages\\keras\\src\\utils\\tf_utils.py:492: The name tf.ragged.RaggedTensorValue is deprecated. Please use tf.compat.v1.ragged.RaggedTensorValue instead.\n",
            "\n",
            "WARNING:tensorflow:From c:\\Users\\HP\\AppData\\Local\\Programs\\Python\\Python311\\Lib\\site-packages\\keras\\src\\engine\\base_layer_utils.py:384: The name tf.executing_eagerly_outside_functions is deprecated. Please use tf.compat.v1.executing_eagerly_outside_functions instead.\n",
            "\n",
            "129/129 [==============================] - 133s 918ms/step - loss: 1.5360 - accuracy: 0.9011 - val_loss: 0.3265 - val_accuracy: 0.9632\n",
            "Epoch 2/50\n",
            "129/129 [==============================] - 106s 822ms/step - loss: 0.2841 - accuracy: 0.9598 - val_loss: 0.2444 - val_accuracy: 0.9632\n",
            "Epoch 3/50\n",
            "129/129 [==============================] - 111s 859ms/step - loss: 0.2478 - accuracy: 0.9598 - val_loss: 0.2261 - val_accuracy: 0.9632\n",
            "Epoch 4/50\n",
            "129/129 [==============================] - 110s 855ms/step - loss: 0.2307 - accuracy: 0.9598 - val_loss: 0.2129 - val_accuracy: 0.9632\n",
            "Epoch 5/50\n",
            "129/129 [==============================] - 109s 843ms/step - loss: 0.2175 - accuracy: 0.9599 - val_loss: 0.2023 - val_accuracy: 0.9633\n",
            "Epoch 6/50\n",
            "129/129 [==============================] - 110s 855ms/step - loss: 0.2069 - accuracy: 0.9600 - val_loss: 0.1935 - val_accuracy: 0.9635\n",
            "Epoch 7/50\n",
            "129/129 [==============================] - 111s 857ms/step - loss: 0.1980 - accuracy: 0.9606 - val_loss: 0.1861 - val_accuracy: 0.9642\n",
            "Epoch 8/50\n",
            "129/129 [==============================] - 111s 863ms/step - loss: 0.1904 - accuracy: 0.9615 - val_loss: 0.1798 - val_accuracy: 0.9652\n",
            "Epoch 9/50\n",
            "129/129 [==============================] - 112s 868ms/step - loss: 0.1840 - accuracy: 0.9627 - val_loss: 0.1744 - val_accuracy: 0.9663\n",
            "Epoch 10/50\n",
            "129/129 [==============================] - 110s 852ms/step - loss: 0.1784 - accuracy: 0.9635 - val_loss: 0.1697 - val_accuracy: 0.9669\n",
            "Epoch 11/50\n",
            "129/129 [==============================] - 115s 892ms/step - loss: 0.1737 - accuracy: 0.9640 - val_loss: 0.1657 - val_accuracy: 0.9671\n",
            "Epoch 12/50\n",
            "129/129 [==============================] - 115s 888ms/step - loss: 0.1696 - accuracy: 0.9645 - val_loss: 0.1621 - val_accuracy: 0.9676\n",
            "Epoch 13/50\n",
            "129/129 [==============================] - 115s 888ms/step - loss: 0.1660 - accuracy: 0.9650 - val_loss: 0.1590 - val_accuracy: 0.9681\n",
            "Epoch 14/50\n",
            "129/129 [==============================] - 115s 893ms/step - loss: 0.1627 - accuracy: 0.9654 - val_loss: 0.1562 - val_accuracy: 0.9686\n",
            "Epoch 15/50\n",
            "129/129 [==============================] - 114s 887ms/step - loss: 0.1597 - accuracy: 0.9659 - val_loss: 0.1537 - val_accuracy: 0.9691\n",
            "Epoch 16/50\n",
            "129/129 [==============================] - 115s 891ms/step - loss: 0.1573 - accuracy: 0.9662 - val_loss: 0.1514 - val_accuracy: 0.9692\n",
            "Epoch 17/50\n",
            "129/129 [==============================] - 115s 887ms/step - loss: 0.1549 - accuracy: 0.9664 - val_loss: 0.1493 - val_accuracy: 0.9693\n",
            "Epoch 18/50\n",
            "129/129 [==============================] - 116s 896ms/step - loss: 0.1527 - accuracy: 0.9665 - val_loss: 0.1474 - val_accuracy: 0.9694\n",
            "Epoch 19/50\n",
            "129/129 [==============================] - 114s 887ms/step - loss: 0.1503 - accuracy: 0.9668 - val_loss: 0.1456 - val_accuracy: 0.9694\n",
            "Epoch 20/50\n",
            "129/129 [==============================] - 115s 889ms/step - loss: 0.1485 - accuracy: 0.9669 - val_loss: 0.1439 - val_accuracy: 0.9695\n",
            "Epoch 21/50\n",
            "129/129 [==============================] - 115s 894ms/step - loss: 0.1467 - accuracy: 0.9670 - val_loss: 0.1424 - val_accuracy: 0.9696\n",
            "Epoch 22/50\n",
            "129/129 [==============================] - 116s 897ms/step - loss: 0.1452 - accuracy: 0.9670 - val_loss: 0.1409 - val_accuracy: 0.9697\n",
            "Epoch 23/50\n",
            "129/129 [==============================] - 116s 896ms/step - loss: 0.1434 - accuracy: 0.9671 - val_loss: 0.1395 - val_accuracy: 0.9697\n",
            "Epoch 24/50\n",
            "129/129 [==============================] - 115s 895ms/step - loss: 0.1420 - accuracy: 0.9672 - val_loss: 0.1382 - val_accuracy: 0.9698\n",
            "Epoch 25/50\n",
            "129/129 [==============================] - 117s 904ms/step - loss: 0.1404 - accuracy: 0.9673 - val_loss: 0.1369 - val_accuracy: 0.9698\n",
            "Epoch 26/50\n",
            "129/129 [==============================] - 115s 893ms/step - loss: 0.1392 - accuracy: 0.9673 - val_loss: 0.1357 - val_accuracy: 0.9699\n",
            "Epoch 27/50\n",
            "129/129 [==============================] - 117s 904ms/step - loss: 0.1378 - accuracy: 0.9674 - val_loss: 0.1345 - val_accuracy: 0.9699\n",
            "Epoch 28/50\n",
            "129/129 [==============================] - 116s 897ms/step - loss: 0.1367 - accuracy: 0.9674 - val_loss: 0.1334 - val_accuracy: 0.9700\n",
            "Epoch 29/50\n",
            "129/129 [==============================] - 115s 893ms/step - loss: 0.1353 - accuracy: 0.9675 - val_loss: 0.1324 - val_accuracy: 0.9700\n",
            "Epoch 30/50\n",
            "129/129 [==============================] - 119s 919ms/step - loss: 0.1342 - accuracy: 0.9675 - val_loss: 0.1313 - val_accuracy: 0.9700\n",
            "Epoch 31/50\n",
            "129/129 [==============================] - 116s 900ms/step - loss: 0.1330 - accuracy: 0.9676 - val_loss: 0.1303 - val_accuracy: 0.9701\n",
            "Epoch 32/50\n",
            "129/129 [==============================] - 117s 905ms/step - loss: 0.1319 - accuracy: 0.9676 - val_loss: 0.1294 - val_accuracy: 0.9702\n",
            "Epoch 33/50\n",
            "129/129 [==============================] - 116s 897ms/step - loss: 0.1310 - accuracy: 0.9677 - val_loss: 0.1285 - val_accuracy: 0.9703\n",
            "Epoch 34/50\n",
            "129/129 [==============================] - 116s 896ms/step - loss: 0.1299 - accuracy: 0.9678 - val_loss: 0.1276 - val_accuracy: 0.9703\n",
            "Epoch 35/50\n",
            "129/129 [==============================] - 118s 912ms/step - loss: 0.1291 - accuracy: 0.9678 - val_loss: 0.1267 - val_accuracy: 0.9704\n",
            "Epoch 36/50\n",
            "129/129 [==============================] - 115s 890ms/step - loss: 0.1280 - accuracy: 0.9678 - val_loss: 0.1259 - val_accuracy: 0.9704\n",
            "Epoch 37/50\n",
            "129/129 [==============================] - 116s 897ms/step - loss: 0.1272 - accuracy: 0.9678 - val_loss: 0.1251 - val_accuracy: 0.9705\n",
            "Epoch 38/50\n",
            "129/129 [==============================] - 116s 903ms/step - loss: 0.1262 - accuracy: 0.9679 - val_loss: 0.1243 - val_accuracy: 0.9705\n",
            "Epoch 39/50\n",
            "129/129 [==============================] - 117s 906ms/step - loss: 0.1255 - accuracy: 0.9679 - val_loss: 0.1235 - val_accuracy: 0.9705\n",
            "Epoch 40/50\n",
            "129/129 [==============================] - 117s 910ms/step - loss: 0.1247 - accuracy: 0.9680 - val_loss: 0.1227 - val_accuracy: 0.9706\n",
            "Epoch 41/50\n",
            "129/129 [==============================] - 118s 918ms/step - loss: 0.1240 - accuracy: 0.9681 - val_loss: 0.1220 - val_accuracy: 0.9706\n",
            "Epoch 42/50\n",
            "129/129 [==============================] - 115s 894ms/step - loss: 0.1230 - accuracy: 0.9683 - val_loss: 0.1213 - val_accuracy: 0.9707\n",
            "Epoch 43/50\n",
            "129/129 [==============================] - 117s 911ms/step - loss: 0.1222 - accuracy: 0.9683 - val_loss: 0.1206 - val_accuracy: 0.9707\n",
            "Epoch 44/50\n",
            "129/129 [==============================] - 116s 900ms/step - loss: 0.1213 - accuracy: 0.9683 - val_loss: 0.1200 - val_accuracy: 0.9708\n",
            "Epoch 45/50\n",
            "129/129 [==============================] - 116s 900ms/step - loss: 0.1209 - accuracy: 0.9683 - val_loss: 0.1193 - val_accuracy: 0.9708\n",
            "Epoch 46/50\n",
            "129/129 [==============================] - 119s 927ms/step - loss: 0.1201 - accuracy: 0.9684 - val_loss: 0.1186 - val_accuracy: 0.9709\n",
            "Epoch 47/50\n",
            "129/129 [==============================] - 117s 911ms/step - loss: 0.1192 - accuracy: 0.9685 - val_loss: 0.1180 - val_accuracy: 0.9709\n",
            "Epoch 48/50\n",
            "129/129 [==============================] - 117s 906ms/step - loss: 0.1186 - accuracy: 0.9685 - val_loss: 0.1174 - val_accuracy: 0.9710\n",
            "Epoch 49/50\n",
            "129/129 [==============================] - 118s 914ms/step - loss: 0.1180 - accuracy: 0.9686 - val_loss: 0.1168 - val_accuracy: 0.9710\n",
            "Epoch 50/50\n",
            "129/129 [==============================] - 117s 911ms/step - loss: 0.1173 - accuracy: 0.9687 - val_loss: 0.1162 - val_accuracy: 0.9711\n"
          ]
        }
      ],
      "source": [
        "from tensorflow.keras.callbacks import EarlyStopping, ModelCheckpoint, Callback\n",
        "import time\n",
        "\n",
        "class WeightsLogger(Callback):\n",
        "    def __init__(self):\n",
        "        super(WeightsLogger, self).__init__()\n",
        "        self.logs = []  # List to store weights and epochs\n",
        "\n",
        "    def on_epoch_end(self, epoch, logs=None):\n",
        "        weights = self.model.get_weights()\n",
        "        self.logs.append({\n",
        "            'epoch': epoch + 1,\n",
        "            'weights': weights\n",
        "        })\n",
        "\n",
        "    def on_train_end(self, logs=None):\n",
        "        # Save weights logs to CSV file\n",
        "        df = pd.DataFrame(self.logs)\n",
        "        df.to_csv('Hasil Training\\ModelSGD\\Bobot.csv', index=False)\n",
        "\n",
        "class MetricsLogger(Callback):\n",
        "    def __init__(self):\n",
        "        super(MetricsLogger, self).__init__()\n",
        "        self.logs = []\n",
        "\n",
        "    def on_epoch_begin(self, epoch, logs=None):\n",
        "        self.epoch_start_time = time.time()\n",
        "\n",
        "    def on_epoch_end(self, epoch, logs=None):\n",
        "        elapsed_time = time.time() - self.epoch_start_time\n",
        "        elapsed_time_rounded = round(elapsed_time)  # Round to nearest second\n",
        "        log_entry = {\n",
        "            'epoch': epoch + 1,\n",
        "            'accuracy': logs.get('accuracy'),\n",
        "            'val_accuracy': logs.get('val_accuracy'),\n",
        "            'loss': logs.get('loss'),\n",
        "            'val_loss': logs.get('val_loss'),\n",
        "            'time': elapsed_time_rounded\n",
        "        }\n",
        "        self.logs.append(log_entry)\n",
        "\n",
        "    def on_train_end(self, logs=None):\n",
        "        df = pd.DataFrame(self.logs)\n",
        "        df = df[['epoch', 'accuracy', 'val_accuracy', 'loss', 'val_loss', 'time']]\n",
        "        df.to_csv('Hasil Training/training_metricsSGD.csv', index=False)\n",
        "\n",
        "checkpoint = ModelCheckpoint(\n",
        "    filepath='Hasil Training\\ModelSGD\\modelSGD_epoch_{epoch:02d}.keras',  # Filepath to save model, including epoch number\n",
        "    save_weights_only=False,                # Save the whole model, not just weights\n",
        "    save_freq='epoch',                      # Save the model at the end of every epoch\n",
        "    save_best_only=False                    # Save model every epoch, not just the best one\n",
        ")\n",
        "weights_logger = WeightsLogger()\n",
        "metrics_logger = MetricsLogger()\n",
        "historySGD = modelSGD.fit(np.array(X_tr).astype(int),\n",
        "                    np.array(y_tr).astype(int),\n",
        "                    batch_size=BATCH_SIZE,\n",
        "                    epochs=50,\n",
        "                    validation_split=0.1,\n",
        "                    verbose=1,\n",
        "                    shuffle=False,\n",
        "                    callbacks=[weights_logger,metrics_logger,checkpoint])"
      ]
    },
    {
      "cell_type": "markdown",
      "metadata": {
        "id": "gMnF0IZNjnec"
      },
      "source": [
        "### Save Model"
      ]
    },
    {
      "cell_type": "code",
      "execution_count": 30,
      "metadata": {
        "execution": {
          "iopub.execute_input": "2024-06-28T13:06:04.316954Z",
          "iopub.status.busy": "2024-06-28T13:06:04.316662Z",
          "iopub.status.idle": "2024-06-28T13:06:04.367478Z",
          "shell.execute_reply": "2024-06-28T13:06:04.366532Z",
          "shell.execute_reply.started": "2024-06-28T13:06:04.316929Z"
        },
        "id": "tclKa4HSjnec",
        "trusted": true
      },
      "outputs": [],
      "source": [
        "pathSGD = 'Hasil Training\\ModelSGD.keras'\n",
        "modelSGD.save(pathSGD)\n",
        "modelSGD.save_weights('Hasil Training\\modelSGD.weights.h5')"
      ]
    },
    {
      "cell_type": "markdown",
      "metadata": {
        "id": "9SrlpCrOjnec"
      },
      "source": [
        "### Load Model"
      ]
    },
    {
      "cell_type": "code",
      "execution_count": 31,
      "metadata": {
        "colab": {
          "base_uri": "https://localhost:8080/",
          "height": 669
        },
        "execution": {
          "iopub.execute_input": "2024-06-28T13:06:04.369241Z",
          "iopub.status.busy": "2024-06-28T13:06:04.368897Z",
          "iopub.status.idle": "2024-06-28T13:06:04.373894Z",
          "shell.execute_reply": "2024-06-28T13:06:04.372747Z",
          "shell.execute_reply.started": "2024-06-28T13:06:04.369211Z"
        },
        "id": "5AycKesdjnei",
        "outputId": "be67eb05-3b14-40cb-ada7-5515346e451a",
        "trusted": true
      },
      "outputs": [],
      "source": [
        "# from tensorflow.keras.models import load_model\n",
        "# save_pathSGD = 'Hasil Training\\ModelSGD.keras'\n",
        "# modelSGD = load_model(save_pathSGD)\n",
        "# modelSGD.load_weights('Hasil Training\\modelSGD.weights.h5')"
      ]
    },
    {
      "cell_type": "markdown",
      "metadata": {
        "id": "sDz46aryjnei"
      },
      "source": [
        "### Grafik Akurasi dan Loss"
      ]
    },
    {
      "cell_type": "code",
      "execution_count": 32,
      "metadata": {
        "execution": {
          "iopub.execute_input": "2024-06-28T13:06:04.375746Z",
          "iopub.status.busy": "2024-06-28T13:06:04.375431Z",
          "iopub.status.idle": "2024-06-28T13:06:04.923235Z",
          "shell.execute_reply": "2024-06-28T13:06:04.922352Z",
          "shell.execute_reply.started": "2024-06-28T13:06:04.375720Z"
        },
        "id": "3f9_Cd-Sjnei",
        "trusted": true
      },
      "outputs": [
        {
          "data": {
            "image/png": "[encoded data removed]",
            "text/plain": [
              "<Figure size 800x800 with 2 Axes>"
            ]
          },
          "metadata": {},
          "output_type": "display_data"
        }
      ],
      "source": [
        "acc = historySGD.history['accuracy']\n",
        "val_acc = historySGD.history['val_accuracy']\n",
        "\n",
        "loss = historySGD.history['loss']\n",
        "val_loss = historySGD.history['val_loss']\n",
        "\n",
        "plt.figure(figsize=(8, 8))\n",
        "plt.subplot(2, 1, 1)\n",
        "plt.plot(acc, label='Training Accuracy')\n",
        "plt.plot(val_acc, label='Validation Accuracy')\n",
        "plt.legend(loc='lower right')\n",
        "plt.ylabel('Accuracy')\n",
        "plt.ylim([min(plt.ylim()),1])\n",
        "plt.title('Training and Validation Accuracy')\n",
        "\n",
        "plt.subplot(2, 1, 2)\n",
        "plt.plot(loss, label='Training Loss')\n",
        "plt.plot(val_loss, label='Validation Loss')\n",
        "plt.legend(loc='upper right')\n",
        "plt.ylabel('Cross Entropy')\n",
        "plt.ylim([0,1.0])\n",
        "plt.title('Training and Validation Loss')\n",
        "plt.xlabel('epoch')\n",
        "plt.show()"
      ]
    },
    {
      "cell_type": "markdown",
      "metadata": {
        "id": "67uQEiW3jnej"
      },
      "source": [
        "## Skenario II (Adam)"
      ]
    },
    {
      "cell_type": "code",
      "execution_count": 33,
      "metadata": {
        "execution": {
          "iopub.execute_input": "2024-06-28T13:06:04.925581Z",
          "iopub.status.busy": "2024-06-28T13:06:04.924769Z",
          "iopub.status.idle": "2024-06-28T13:06:05.014487Z",
          "shell.execute_reply": "2024-06-28T13:06:05.013537Z",
          "shell.execute_reply.started": "2024-06-28T13:06:04.925543Z"
        },
        "id": "q2vvAW_jjnej",
        "trusted": true
      },
      "outputs": [
        {
          "name": "stdout",
          "output_type": "stream",
          "text": [
            "Model: \"model_1\"\n",
            "_________________________________________________________________\n",
            " Layer (type)                Output Shape              Param #   \n",
            "=================================================================\n",
            " input_2 (InputLayer)        [(None, 200, 10)]         0         \n",
            "                                                                 \n",
            " dropout_1 (Dropout)         (None, 200, 10)           0         \n",
            "                                                                 \n",
            " bidirectional_1 (Bidirecti  (None, 200, 200)          88800     \n",
            " onal)                                                           \n",
            "                                                                 \n",
            " time_distributed_1 (TimeDi  (None, 200, 24)           4824      \n",
            " stributed)                                                      \n",
            "                                                                 \n",
            "=================================================================\n",
            "Total params: 93624 (365.72 KB)\n",
            "Trainable params: 93624 (365.72 KB)\n",
            "Non-trainable params: 0 (0.00 Byte)\n",
            "_________________________________________________________________\n"
          ]
        }
      ],
      "source": [
        "from keras import Model\n",
        "from keras import optimizers\n",
        "from keras.layers import Input, LSTM, Embedding, Dense, TimeDistributed, Dropout, Bidirectional, SpatialDropout1D, Reshape\n",
        "from keras.initializers import glorot_uniform\n",
        "from keras.utils import plot_model\n",
        "SEED = 42\n",
        "\n",
        "# input = Input(shape=(MAX_LEN,)) #Asli\n",
        "input = Input(shape=(MAX_LEN, cbow_model.vector_size))\n",
        "\n",
        "# model = Embedding(input_dim=n_words, output_dim=10, input_length=5)(input)\n",
        "modelAdam = Dropout(0.1)(input)\n",
        "modelAdam = Bidirectional(LSTM(units=100, return_sequences=True, recurrent_dropout=0.1))(modelAdam)\n",
        "\n",
        "out = TimeDistributed(Dense(n_tags+1, activation=\"softmax\"))(modelAdam)  # softmax output layer\n",
        "\n",
        "modelAdam = Model(input, out)\n",
        "\n",
        "modelAdam.compile(optimizer=\"Adam\", loss=\"categorical_crossentropy\", metrics=[\"accuracy\"])\n",
        "\n",
        "modelAdam.summary()"
      ]
    },
    {
      "cell_type": "code",
      "execution_count": 34,
      "metadata": {
        "execution": {
          "iopub.execute_input": "2024-06-28T13:06:05.015931Z",
          "iopub.status.busy": "2024-06-28T13:06:05.015616Z",
          "iopub.status.idle": "2024-06-28T13:06:05.142937Z",
          "shell.execute_reply": "2024-06-28T13:06:05.141794Z",
          "shell.execute_reply.started": "2024-06-28T13:06:05.015905Z"
        },
        "id": "qPlB2A0Fjnej",
        "trusted": true
      },
      "outputs": [
        {
          "data": {
            "image/png": "[encoded data removed]",
            "text/plain": [
              "<IPython.core.display.Image object>"
            ]
          },
          "metadata": {},
          "output_type": "display_data"
        }
      ],
      "source": [
        "from keras.utils import plot_model\n",
        "\n",
        "plot_model(modelAdam, to_file='model_visualizationAdam.png', show_shapes=True, show_layer_names=True)\n",
        "\n",
        "from IPython.display import Image\n",
        "\n",
        "image_path = 'model_visualizationAdam.png'\n",
        "display(Image(filename=image_path))\n",
        "with open(image_path, 'rb') as img_file:\n",
        "    img_data = img_file.read()"
      ]
    },
    {
      "cell_type": "markdown",
      "metadata": {
        "id": "tRJFHuc7jnek"
      },
      "source": [
        "### Training Model Bi-LSTM (Adam)"
      ]
    },
    {
      "cell_type": "code",
      "execution_count": 35,
      "metadata": {
        "execution": {
          "iopub.execute_input": "2024-06-28T13:06:05.145297Z",
          "iopub.status.busy": "2024-06-28T13:06:05.144550Z",
          "iopub.status.idle": "2024-06-28T13:58:33.157224Z",
          "shell.execute_reply": "2024-06-28T13:58:33.156265Z",
          "shell.execute_reply.started": "2024-06-28T13:06:05.145240Z"
        },
        "id": "eA77job7jnek",
        "trusted": true
      },
      "outputs": [
        {
          "name": "stdout",
          "output_type": "stream",
          "text": [
            "Epoch 1/50\n",
            "129/129 [==============================] - 121s 872ms/step - loss: 0.4204 - accuracy: 0.9511 - val_loss: 0.1183 - val_accuracy: 0.9717\n",
            "Epoch 2/50\n",
            "129/129 [==============================] - 117s 911ms/step - loss: 0.0969 - accuracy: 0.9716 - val_loss: 0.0821 - val_accuracy: 0.9772\n",
            "Epoch 3/50\n",
            "129/129 [==============================] - 136s 1s/step - loss: 0.0735 - accuracy: 0.9757 - val_loss: 0.0684 - val_accuracy: 0.9816\n",
            "Epoch 4/50\n",
            "129/129 [==============================] - 124s 962ms/step - loss: 0.0623 - accuracy: 0.9791 - val_loss: 0.0592 - val_accuracy: 0.9843\n",
            "Epoch 5/50\n",
            "129/129 [==============================] - 129s 1s/step - loss: 0.0555 - accuracy: 0.9813 - val_loss: 0.0525 - val_accuracy: 0.9856\n",
            "Epoch 6/50\n",
            "129/129 [==============================] - 121s 935ms/step - loss: 0.0509 - accuracy: 0.9829 - val_loss: 0.0483 - val_accuracy: 0.9866\n",
            "Epoch 7/50\n",
            "129/129 [==============================] - 114s 879ms/step - loss: 0.0477 - accuracy: 0.9838 - val_loss: 0.0448 - val_accuracy: 0.9871\n",
            "Epoch 8/50\n",
            "129/129 [==============================] - 115s 895ms/step - loss: 0.0451 - accuracy: 0.9848 - val_loss: 0.0426 - val_accuracy: 0.9875\n",
            "Epoch 9/50\n",
            "129/129 [==============================] - 113s 879ms/step - loss: 0.0426 - accuracy: 0.9855 - val_loss: 0.0417 - val_accuracy: 0.9878\n",
            "Epoch 10/50\n",
            "129/129 [==============================] - 117s 907ms/step - loss: 0.0409 - accuracy: 0.9860 - val_loss: 0.0401 - val_accuracy: 0.9879\n",
            "Epoch 11/50\n",
            "129/129 [==============================] - 121s 940ms/step - loss: 0.0393 - accuracy: 0.9865 - val_loss: 0.0388 - val_accuracy: 0.9881\n",
            "Epoch 12/50\n",
            "129/129 [==============================] - 119s 921ms/step - loss: 0.0378 - accuracy: 0.9869 - val_loss: 0.0383 - val_accuracy: 0.9880\n",
            "Epoch 13/50\n",
            "129/129 [==============================] - 119s 922ms/step - loss: 0.0368 - accuracy: 0.9872 - val_loss: 0.0373 - val_accuracy: 0.9884\n",
            "Epoch 14/50\n",
            "129/129 [==============================] - 119s 920ms/step - loss: 0.0354 - accuracy: 0.9876 - val_loss: 0.0369 - val_accuracy: 0.9882\n",
            "Epoch 15/50\n",
            "129/129 [==============================] - 121s 938ms/step - loss: 0.0342 - accuracy: 0.9879 - val_loss: 0.0364 - val_accuracy: 0.9886\n",
            "Epoch 16/50\n",
            "129/129 [==============================] - 122s 944ms/step - loss: 0.0338 - accuracy: 0.9880 - val_loss: 0.0357 - val_accuracy: 0.9887\n",
            "Epoch 17/50\n",
            "129/129 [==============================] - 120s 927ms/step - loss: 0.0327 - accuracy: 0.9884 - val_loss: 0.0353 - val_accuracy: 0.9888\n",
            "Epoch 18/50\n",
            "129/129 [==============================] - 120s 933ms/step - loss: 0.0319 - accuracy: 0.9887 - val_loss: 0.0351 - val_accuracy: 0.9888\n",
            "Epoch 19/50\n",
            "129/129 [==============================] - 118s 917ms/step - loss: 0.0314 - accuracy: 0.9887 - val_loss: 0.0350 - val_accuracy: 0.9889\n",
            "Epoch 20/50\n",
            "129/129 [==============================] - 120s 932ms/step - loss: 0.0307 - accuracy: 0.9889 - val_loss: 0.0343 - val_accuracy: 0.9891\n",
            "Epoch 21/50\n",
            "129/129 [==============================] - 122s 946ms/step - loss: 0.0298 - accuracy: 0.9893 - val_loss: 0.0338 - val_accuracy: 0.9890\n",
            "Epoch 22/50\n",
            "129/129 [==============================] - 121s 937ms/step - loss: 0.0294 - accuracy: 0.9895 - val_loss: 0.0335 - val_accuracy: 0.9893\n",
            "Epoch 23/50\n",
            "129/129 [==============================] - 122s 944ms/step - loss: 0.0287 - accuracy: 0.9897 - val_loss: 0.0334 - val_accuracy: 0.9893\n",
            "Epoch 24/50\n",
            "129/129 [==============================] - 118s 919ms/step - loss: 0.0281 - accuracy: 0.9900 - val_loss: 0.0330 - val_accuracy: 0.9893\n",
            "Epoch 25/50\n",
            "129/129 [==============================] - 121s 937ms/step - loss: 0.0274 - accuracy: 0.9902 - val_loss: 0.0331 - val_accuracy: 0.9894\n",
            "Epoch 26/50\n",
            "129/129 [==============================] - 123s 949ms/step - loss: 0.0271 - accuracy: 0.9902 - val_loss: 0.0327 - val_accuracy: 0.9898\n",
            "Epoch 27/50\n",
            "129/129 [==============================] - 125s 970ms/step - loss: 0.0271 - accuracy: 0.9903 - val_loss: 0.0328 - val_accuracy: 0.9898\n",
            "Epoch 28/50\n",
            "129/129 [==============================] - 137s 1s/step - loss: 0.0266 - accuracy: 0.9905 - val_loss: 0.0321 - val_accuracy: 0.9900\n",
            "Epoch 29/50\n",
            "129/129 [==============================] - 123s 956ms/step - loss: 0.0256 - accuracy: 0.9909 - val_loss: 0.0321 - val_accuracy: 0.9900\n",
            "Epoch 30/50\n",
            "129/129 [==============================] - 121s 936ms/step - loss: 0.0250 - accuracy: 0.9911 - val_loss: 0.0324 - val_accuracy: 0.9898\n",
            "Epoch 31/50\n",
            "129/129 [==============================] - 118s 911ms/step - loss: 0.0247 - accuracy: 0.9912 - val_loss: 0.0321 - val_accuracy: 0.9898\n",
            "Epoch 32/50\n",
            "129/129 [==============================] - 120s 929ms/step - loss: 0.0241 - accuracy: 0.9914 - val_loss: 0.0317 - val_accuracy: 0.9902\n",
            "Epoch 33/50\n",
            "129/129 [==============================] - 118s 916ms/step - loss: 0.0237 - accuracy: 0.9916 - val_loss: 0.0318 - val_accuracy: 0.9901\n",
            "Epoch 34/50\n",
            "129/129 [==============================] - 119s 921ms/step - loss: 0.0233 - accuracy: 0.9916 - val_loss: 0.0324 - val_accuracy: 0.9900\n",
            "Epoch 35/50\n",
            "129/129 [==============================] - 121s 935ms/step - loss: 0.0235 - accuracy: 0.9916 - val_loss: 0.0320 - val_accuracy: 0.9903\n",
            "Epoch 36/50\n",
            "129/129 [==============================] - 123s 953ms/step - loss: 0.0230 - accuracy: 0.9917 - val_loss: 0.0323 - val_accuracy: 0.9901\n",
            "Epoch 37/50\n",
            "129/129 [==============================] - 126s 978ms/step - loss: 0.0226 - accuracy: 0.9918 - val_loss: 0.0319 - val_accuracy: 0.9902\n",
            "Epoch 38/50\n",
            " 46/129 [=========>....................] - ETA: 1:26 - loss: 0.0197 - accuracy: 0.9932"
          ]
        },
        {
          "ename": "KeyboardInterrupt",
          "evalue": "",
          "output_type": "error",
          "traceback": [
            "\u001b[1;31m---------------------------------------------------------------------------\u001b[0m",
            "\u001b[1;31mKeyboardInterrupt\u001b[0m                         Traceback (most recent call last)",
            "Cell \u001b[1;32mIn[35], line 54\u001b[0m\n\u001b[0;32m     52\u001b[0m weights_logger \u001b[38;5;241m=\u001b[39m WeightsLogger()\n\u001b[0;32m     53\u001b[0m metrics_logger \u001b[38;5;241m=\u001b[39m MetricsLogger()\n\u001b[1;32m---> 54\u001b[0m historyAdam \u001b[38;5;241m=\u001b[39m \u001b[43mmodelAdam\u001b[49m\u001b[38;5;241;43m.\u001b[39;49m\u001b[43mfit\u001b[49m\u001b[43m(\u001b[49m\u001b[43mnp\u001b[49m\u001b[38;5;241;43m.\u001b[39;49m\u001b[43marray\u001b[49m\u001b[43m(\u001b[49m\u001b[43mX_tr\u001b[49m\u001b[43m)\u001b[49m\u001b[38;5;241;43m.\u001b[39;49m\u001b[43mastype\u001b[49m\u001b[43m(\u001b[49m\u001b[38;5;28;43mint\u001b[39;49m\u001b[43m)\u001b[49m\u001b[43m,\u001b[49m\n\u001b[0;32m     55\u001b[0m \u001b[43m                    \u001b[49m\u001b[43mnp\u001b[49m\u001b[38;5;241;43m.\u001b[39;49m\u001b[43marray\u001b[49m\u001b[43m(\u001b[49m\u001b[43my_tr\u001b[49m\u001b[43m)\u001b[49m\u001b[38;5;241;43m.\u001b[39;49m\u001b[43mastype\u001b[49m\u001b[43m(\u001b[49m\u001b[38;5;28;43mint\u001b[39;49m\u001b[43m)\u001b[49m\u001b[43m,\u001b[49m\n\u001b[0;32m     56\u001b[0m \u001b[43m                    \u001b[49m\u001b[43mbatch_size\u001b[49m\u001b[38;5;241;43m=\u001b[39;49m\u001b[43mBATCH_SIZE\u001b[49m\u001b[43m,\u001b[49m\n\u001b[0;32m     57\u001b[0m \u001b[43m                    \u001b[49m\u001b[43mepochs\u001b[49m\u001b[38;5;241;43m=\u001b[39;49m\u001b[38;5;241;43m50\u001b[39;49m\u001b[43m,\u001b[49m\n\u001b[0;32m     58\u001b[0m \u001b[43m                    \u001b[49m\u001b[43mvalidation_split\u001b[49m\u001b[38;5;241;43m=\u001b[39;49m\u001b[38;5;241;43m0.1\u001b[39;49m\u001b[43m,\u001b[49m\n\u001b[0;32m     59\u001b[0m \u001b[43m                    \u001b[49m\u001b[43mverbose\u001b[49m\u001b[38;5;241;43m=\u001b[39;49m\u001b[38;5;241;43m1\u001b[39;49m\u001b[43m,\u001b[49m\n\u001b[0;32m     60\u001b[0m \u001b[43m                    \u001b[49m\u001b[43mshuffle\u001b[49m\u001b[38;5;241;43m=\u001b[39;49m\u001b[38;5;28;43;01mFalse\u001b[39;49;00m\u001b[43m,\u001b[49m\n\u001b[0;32m     61\u001b[0m \u001b[43m                    \u001b[49m\u001b[43mcallbacks\u001b[49m\u001b[38;5;241;43m=\u001b[39;49m\u001b[43m[\u001b[49m\u001b[43mweights_logger\u001b[49m\u001b[43m,\u001b[49m\u001b[43mmetrics_logger\u001b[49m\u001b[43m,\u001b[49m\u001b[43mcheckpoint\u001b[49m\u001b[43m]\u001b[49m\u001b[43m)\u001b[49m\n",
            "File \u001b[1;32mc:\\Users\\HP\\AppData\\Local\\Programs\\Python\\Python311\\Lib\\site-packages\\keras\\src\\utils\\traceback_utils.py:65\u001b[0m, in \u001b[0;36mfilter_traceback.<locals>.error_handler\u001b[1;34m(*args, **kwargs)\u001b[0m\n\u001b[0;32m     63\u001b[0m filtered_tb \u001b[38;5;241m=\u001b[39m \u001b[38;5;28;01mNone\u001b[39;00m\n\u001b[0;32m     64\u001b[0m \u001b[38;5;28;01mtry\u001b[39;00m:\n\u001b[1;32m---> 65\u001b[0m     \u001b[38;5;28;01mreturn\u001b[39;00m \u001b[43mfn\u001b[49m\u001b[43m(\u001b[49m\u001b[38;5;241;43m*\u001b[39;49m\u001b[43margs\u001b[49m\u001b[43m,\u001b[49m\u001b[43m \u001b[49m\u001b[38;5;241;43m*\u001b[39;49m\u001b[38;5;241;43m*\u001b[39;49m\u001b[43mkwargs\u001b[49m\u001b[43m)\u001b[49m\n\u001b[0;32m     66\u001b[0m \u001b[38;5;28;01mexcept\u001b[39;00m \u001b[38;5;167;01mException\u001b[39;00m \u001b[38;5;28;01mas\u001b[39;00m e:\n\u001b[0;32m     67\u001b[0m     filtered_tb \u001b[38;5;241m=\u001b[39m _process_traceback_frames(e\u001b[38;5;241m.\u001b[39m__traceback__)\n",
            "File \u001b[1;32mc:\\Users\\HP\\AppData\\Local\\Programs\\Python\\Python311\\Lib\\site-packages\\keras\\src\\engine\\training.py:1807\u001b[0m, in \u001b[0;36mModel.fit\u001b[1;34m(self, x, y, batch_size, epochs, verbose, callbacks, validation_split, validation_data, shuffle, class_weight, sample_weight, initial_epoch, steps_per_epoch, validation_steps, validation_batch_size, validation_freq, max_queue_size, workers, use_multiprocessing)\u001b[0m\n\u001b[0;32m   1799\u001b[0m \u001b[38;5;28;01mwith\u001b[39;00m tf\u001b[38;5;241m.\u001b[39mprofiler\u001b[38;5;241m.\u001b[39mexperimental\u001b[38;5;241m.\u001b[39mTrace(\n\u001b[0;32m   1800\u001b[0m     \u001b[38;5;124m\"\u001b[39m\u001b[38;5;124mtrain\u001b[39m\u001b[38;5;124m\"\u001b[39m,\n\u001b[0;32m   1801\u001b[0m     epoch_num\u001b[38;5;241m=\u001b[39mepoch,\n\u001b[1;32m   (...)\u001b[0m\n\u001b[0;32m   1804\u001b[0m     _r\u001b[38;5;241m=\u001b[39m\u001b[38;5;241m1\u001b[39m,\n\u001b[0;32m   1805\u001b[0m ):\n\u001b[0;32m   1806\u001b[0m     callbacks\u001b[38;5;241m.\u001b[39mon_train_batch_begin(step)\n\u001b[1;32m-> 1807\u001b[0m     tmp_logs \u001b[38;5;241m=\u001b[39m \u001b[38;5;28;43mself\u001b[39;49m\u001b[38;5;241;43m.\u001b[39;49m\u001b[43mtrain_function\u001b[49m\u001b[43m(\u001b[49m\u001b[43miterator\u001b[49m\u001b[43m)\u001b[49m\n\u001b[0;32m   1808\u001b[0m     \u001b[38;5;28;01mif\u001b[39;00m data_handler\u001b[38;5;241m.\u001b[39mshould_sync:\n\u001b[0;32m   1809\u001b[0m         context\u001b[38;5;241m.\u001b[39masync_wait()\n",
            "File \u001b[1;32mc:\\Users\\HP\\AppData\\Local\\Programs\\Python\\Python311\\Lib\\site-packages\\tensorflow\\python\\util\\traceback_utils.py:150\u001b[0m, in \u001b[0;36mfilter_traceback.<locals>.error_handler\u001b[1;34m(*args, **kwargs)\u001b[0m\n\u001b[0;32m    148\u001b[0m filtered_tb \u001b[38;5;241m=\u001b[39m \u001b[38;5;28;01mNone\u001b[39;00m\n\u001b[0;32m    149\u001b[0m \u001b[38;5;28;01mtry\u001b[39;00m:\n\u001b[1;32m--> 150\u001b[0m   \u001b[38;5;28;01mreturn\u001b[39;00m \u001b[43mfn\u001b[49m\u001b[43m(\u001b[49m\u001b[38;5;241;43m*\u001b[39;49m\u001b[43margs\u001b[49m\u001b[43m,\u001b[49m\u001b[43m \u001b[49m\u001b[38;5;241;43m*\u001b[39;49m\u001b[38;5;241;43m*\u001b[39;49m\u001b[43mkwargs\u001b[49m\u001b[43m)\u001b[49m\n\u001b[0;32m    151\u001b[0m \u001b[38;5;28;01mexcept\u001b[39;00m \u001b[38;5;167;01mException\u001b[39;00m \u001b[38;5;28;01mas\u001b[39;00m e:\n\u001b[0;32m    152\u001b[0m   filtered_tb \u001b[38;5;241m=\u001b[39m _process_traceback_frames(e\u001b[38;5;241m.\u001b[39m__traceback__)\n",
            "File \u001b[1;32mc:\\Users\\HP\\AppData\\Local\\Programs\\Python\\Python311\\Lib\\site-packages\\tensorflow\\python\\eager\\polymorphic_function\\polymorphic_function.py:832\u001b[0m, in \u001b[0;36mFunction.__call__\u001b[1;34m(self, *args, **kwds)\u001b[0m\n\u001b[0;32m    829\u001b[0m compiler \u001b[38;5;241m=\u001b[39m \u001b[38;5;124m\"\u001b[39m\u001b[38;5;124mxla\u001b[39m\u001b[38;5;124m\"\u001b[39m \u001b[38;5;28;01mif\u001b[39;00m \u001b[38;5;28mself\u001b[39m\u001b[38;5;241m.\u001b[39m_jit_compile \u001b[38;5;28;01melse\u001b[39;00m \u001b[38;5;124m\"\u001b[39m\u001b[38;5;124mnonXla\u001b[39m\u001b[38;5;124m\"\u001b[39m\n\u001b[0;32m    831\u001b[0m \u001b[38;5;28;01mwith\u001b[39;00m OptionalXlaContext(\u001b[38;5;28mself\u001b[39m\u001b[38;5;241m.\u001b[39m_jit_compile):\n\u001b[1;32m--> 832\u001b[0m   result \u001b[38;5;241m=\u001b[39m \u001b[38;5;28;43mself\u001b[39;49m\u001b[38;5;241;43m.\u001b[39;49m\u001b[43m_call\u001b[49m\u001b[43m(\u001b[49m\u001b[38;5;241;43m*\u001b[39;49m\u001b[43margs\u001b[49m\u001b[43m,\u001b[49m\u001b[43m \u001b[49m\u001b[38;5;241;43m*\u001b[39;49m\u001b[38;5;241;43m*\u001b[39;49m\u001b[43mkwds\u001b[49m\u001b[43m)\u001b[49m\n\u001b[0;32m    834\u001b[0m new_tracing_count \u001b[38;5;241m=\u001b[39m \u001b[38;5;28mself\u001b[39m\u001b[38;5;241m.\u001b[39mexperimental_get_tracing_count()\n\u001b[0;32m    835\u001b[0m without_tracing \u001b[38;5;241m=\u001b[39m (tracing_count \u001b[38;5;241m==\u001b[39m new_tracing_count)\n",
            "File \u001b[1;32mc:\\Users\\HP\\AppData\\Local\\Programs\\Python\\Python311\\Lib\\site-packages\\tensorflow\\python\\eager\\polymorphic_function\\polymorphic_function.py:868\u001b[0m, in \u001b[0;36mFunction._call\u001b[1;34m(self, *args, **kwds)\u001b[0m\n\u001b[0;32m    865\u001b[0m   \u001b[38;5;28mself\u001b[39m\u001b[38;5;241m.\u001b[39m_lock\u001b[38;5;241m.\u001b[39mrelease()\n\u001b[0;32m    866\u001b[0m   \u001b[38;5;66;03m# In this case we have created variables on the first call, so we run the\u001b[39;00m\n\u001b[0;32m    867\u001b[0m   \u001b[38;5;66;03m# defunned version which is guaranteed to never create variables.\u001b[39;00m\n\u001b[1;32m--> 868\u001b[0m   \u001b[38;5;28;01mreturn\u001b[39;00m \u001b[43mtracing_compilation\u001b[49m\u001b[38;5;241;43m.\u001b[39;49m\u001b[43mcall_function\u001b[49m\u001b[43m(\u001b[49m\n\u001b[0;32m    869\u001b[0m \u001b[43m      \u001b[49m\u001b[43margs\u001b[49m\u001b[43m,\u001b[49m\u001b[43m \u001b[49m\u001b[43mkwds\u001b[49m\u001b[43m,\u001b[49m\u001b[43m \u001b[49m\u001b[38;5;28;43mself\u001b[39;49m\u001b[38;5;241;43m.\u001b[39;49m\u001b[43m_no_variable_creation_config\u001b[49m\n\u001b[0;32m    870\u001b[0m \u001b[43m  \u001b[49m\u001b[43m)\u001b[49m\n\u001b[0;32m    871\u001b[0m \u001b[38;5;28;01melif\u001b[39;00m \u001b[38;5;28mself\u001b[39m\u001b[38;5;241m.\u001b[39m_variable_creation_config \u001b[38;5;129;01mis\u001b[39;00m \u001b[38;5;129;01mnot\u001b[39;00m \u001b[38;5;28;01mNone\u001b[39;00m:\n\u001b[0;32m    872\u001b[0m   \u001b[38;5;66;03m# Release the lock early so that multiple threads can perform the call\u001b[39;00m\n\u001b[0;32m    873\u001b[0m   \u001b[38;5;66;03m# in parallel.\u001b[39;00m\n\u001b[0;32m    874\u001b[0m   \u001b[38;5;28mself\u001b[39m\u001b[38;5;241m.\u001b[39m_lock\u001b[38;5;241m.\u001b[39mrelease()\n",
            "File \u001b[1;32mc:\\Users\\HP\\AppData\\Local\\Programs\\Python\\Python311\\Lib\\site-packages\\tensorflow\\python\\eager\\polymorphic_function\\tracing_compilation.py:139\u001b[0m, in \u001b[0;36mcall_function\u001b[1;34m(args, kwargs, tracing_options)\u001b[0m\n\u001b[0;32m    137\u001b[0m bound_args \u001b[38;5;241m=\u001b[39m function\u001b[38;5;241m.\u001b[39mfunction_type\u001b[38;5;241m.\u001b[39mbind(\u001b[38;5;241m*\u001b[39margs, \u001b[38;5;241m*\u001b[39m\u001b[38;5;241m*\u001b[39mkwargs)\n\u001b[0;32m    138\u001b[0m flat_inputs \u001b[38;5;241m=\u001b[39m function\u001b[38;5;241m.\u001b[39mfunction_type\u001b[38;5;241m.\u001b[39munpack_inputs(bound_args)\n\u001b[1;32m--> 139\u001b[0m \u001b[38;5;28;01mreturn\u001b[39;00m \u001b[43mfunction\u001b[49m\u001b[38;5;241;43m.\u001b[39;49m\u001b[43m_call_flat\u001b[49m\u001b[43m(\u001b[49m\u001b[43m  \u001b[49m\u001b[38;5;66;43;03m# pylint: disable=protected-access\u001b[39;49;00m\n\u001b[0;32m    140\u001b[0m \u001b[43m    \u001b[49m\u001b[43mflat_inputs\u001b[49m\u001b[43m,\u001b[49m\u001b[43m \u001b[49m\u001b[43mcaptured_inputs\u001b[49m\u001b[38;5;241;43m=\u001b[39;49m\u001b[43mfunction\u001b[49m\u001b[38;5;241;43m.\u001b[39;49m\u001b[43mcaptured_inputs\u001b[49m\n\u001b[0;32m    141\u001b[0m \u001b[43m\u001b[49m\u001b[43m)\u001b[49m\n",
            "File \u001b[1;32mc:\\Users\\HP\\AppData\\Local\\Programs\\Python\\Python311\\Lib\\site-packages\\tensorflow\\python\\eager\\polymorphic_function\\concrete_function.py:1323\u001b[0m, in \u001b[0;36mConcreteFunction._call_flat\u001b[1;34m(self, tensor_inputs, captured_inputs)\u001b[0m\n\u001b[0;32m   1319\u001b[0m possible_gradient_type \u001b[38;5;241m=\u001b[39m gradients_util\u001b[38;5;241m.\u001b[39mPossibleTapeGradientTypes(args)\n\u001b[0;32m   1320\u001b[0m \u001b[38;5;28;01mif\u001b[39;00m (possible_gradient_type \u001b[38;5;241m==\u001b[39m gradients_util\u001b[38;5;241m.\u001b[39mPOSSIBLE_GRADIENT_TYPES_NONE\n\u001b[0;32m   1321\u001b[0m     \u001b[38;5;129;01mand\u001b[39;00m executing_eagerly):\n\u001b[0;32m   1322\u001b[0m   \u001b[38;5;66;03m# No tape is watching; skip to running the function.\u001b[39;00m\n\u001b[1;32m-> 1323\u001b[0m   \u001b[38;5;28;01mreturn\u001b[39;00m \u001b[38;5;28;43mself\u001b[39;49m\u001b[38;5;241;43m.\u001b[39;49m\u001b[43m_inference_function\u001b[49m\u001b[38;5;241;43m.\u001b[39;49m\u001b[43mcall_preflattened\u001b[49m\u001b[43m(\u001b[49m\u001b[43margs\u001b[49m\u001b[43m)\u001b[49m\n\u001b[0;32m   1324\u001b[0m forward_backward \u001b[38;5;241m=\u001b[39m \u001b[38;5;28mself\u001b[39m\u001b[38;5;241m.\u001b[39m_select_forward_and_backward_functions(\n\u001b[0;32m   1325\u001b[0m     args,\n\u001b[0;32m   1326\u001b[0m     possible_gradient_type,\n\u001b[0;32m   1327\u001b[0m     executing_eagerly)\n\u001b[0;32m   1328\u001b[0m forward_function, args_with_tangents \u001b[38;5;241m=\u001b[39m forward_backward\u001b[38;5;241m.\u001b[39mforward()\n",
            "File \u001b[1;32mc:\\Users\\HP\\AppData\\Local\\Programs\\Python\\Python311\\Lib\\site-packages\\tensorflow\\python\\eager\\polymorphic_function\\atomic_function.py:216\u001b[0m, in \u001b[0;36mAtomicFunction.call_preflattened\u001b[1;34m(self, args)\u001b[0m\n\u001b[0;32m    214\u001b[0m \u001b[38;5;28;01mdef\u001b[39;00m \u001b[38;5;21mcall_preflattened\u001b[39m(\u001b[38;5;28mself\u001b[39m, args: Sequence[core\u001b[38;5;241m.\u001b[39mTensor]) \u001b[38;5;241m-\u001b[39m\u001b[38;5;241m>\u001b[39m Any:\n\u001b[0;32m    215\u001b[0m \u001b[38;5;250m  \u001b[39m\u001b[38;5;124;03m\"\"\"Calls with flattened tensor inputs and returns the structured output.\"\"\"\u001b[39;00m\n\u001b[1;32m--> 216\u001b[0m   flat_outputs \u001b[38;5;241m=\u001b[39m \u001b[38;5;28;43mself\u001b[39;49m\u001b[38;5;241;43m.\u001b[39;49m\u001b[43mcall_flat\u001b[49m\u001b[43m(\u001b[49m\u001b[38;5;241;43m*\u001b[39;49m\u001b[43margs\u001b[49m\u001b[43m)\u001b[49m\n\u001b[0;32m    217\u001b[0m   \u001b[38;5;28;01mreturn\u001b[39;00m \u001b[38;5;28mself\u001b[39m\u001b[38;5;241m.\u001b[39mfunction_type\u001b[38;5;241m.\u001b[39mpack_output(flat_outputs)\n",
            "File \u001b[1;32mc:\\Users\\HP\\AppData\\Local\\Programs\\Python\\Python311\\Lib\\site-packages\\tensorflow\\python\\eager\\polymorphic_function\\atomic_function.py:251\u001b[0m, in \u001b[0;36mAtomicFunction.call_flat\u001b[1;34m(self, *args)\u001b[0m\n\u001b[0;32m    249\u001b[0m \u001b[38;5;28;01mwith\u001b[39;00m record\u001b[38;5;241m.\u001b[39mstop_recording():\n\u001b[0;32m    250\u001b[0m   \u001b[38;5;28;01mif\u001b[39;00m \u001b[38;5;28mself\u001b[39m\u001b[38;5;241m.\u001b[39m_bound_context\u001b[38;5;241m.\u001b[39mexecuting_eagerly():\n\u001b[1;32m--> 251\u001b[0m     outputs \u001b[38;5;241m=\u001b[39m \u001b[38;5;28;43mself\u001b[39;49m\u001b[38;5;241;43m.\u001b[39;49m\u001b[43m_bound_context\u001b[49m\u001b[38;5;241;43m.\u001b[39;49m\u001b[43mcall_function\u001b[49m\u001b[43m(\u001b[49m\n\u001b[0;32m    252\u001b[0m \u001b[43m        \u001b[49m\u001b[38;5;28;43mself\u001b[39;49m\u001b[38;5;241;43m.\u001b[39;49m\u001b[43mname\u001b[49m\u001b[43m,\u001b[49m\n\u001b[0;32m    253\u001b[0m \u001b[43m        \u001b[49m\u001b[38;5;28;43mlist\u001b[39;49m\u001b[43m(\u001b[49m\u001b[43margs\u001b[49m\u001b[43m)\u001b[49m\u001b[43m,\u001b[49m\n\u001b[0;32m    254\u001b[0m \u001b[43m        \u001b[49m\u001b[38;5;28;43mlen\u001b[39;49m\u001b[43m(\u001b[49m\u001b[38;5;28;43mself\u001b[39;49m\u001b[38;5;241;43m.\u001b[39;49m\u001b[43mfunction_type\u001b[49m\u001b[38;5;241;43m.\u001b[39;49m\u001b[43mflat_outputs\u001b[49m\u001b[43m)\u001b[49m\u001b[43m,\u001b[49m\n\u001b[0;32m    255\u001b[0m \u001b[43m    \u001b[49m\u001b[43m)\u001b[49m\n\u001b[0;32m    256\u001b[0m   \u001b[38;5;28;01melse\u001b[39;00m:\n\u001b[0;32m    257\u001b[0m     outputs \u001b[38;5;241m=\u001b[39m make_call_op_in_graph(\n\u001b[0;32m    258\u001b[0m         \u001b[38;5;28mself\u001b[39m,\n\u001b[0;32m    259\u001b[0m         \u001b[38;5;28mlist\u001b[39m(args),\n\u001b[0;32m    260\u001b[0m         \u001b[38;5;28mself\u001b[39m\u001b[38;5;241m.\u001b[39m_bound_context\u001b[38;5;241m.\u001b[39mfunction_call_options\u001b[38;5;241m.\u001b[39mas_attrs(),\n\u001b[0;32m    261\u001b[0m     )\n",
            "File \u001b[1;32mc:\\Users\\HP\\AppData\\Local\\Programs\\Python\\Python311\\Lib\\site-packages\\tensorflow\\python\\eager\\context.py:1486\u001b[0m, in \u001b[0;36mContext.call_function\u001b[1;34m(self, name, tensor_inputs, num_outputs)\u001b[0m\n\u001b[0;32m   1484\u001b[0m cancellation_context \u001b[38;5;241m=\u001b[39m cancellation\u001b[38;5;241m.\u001b[39mcontext()\n\u001b[0;32m   1485\u001b[0m \u001b[38;5;28;01mif\u001b[39;00m cancellation_context \u001b[38;5;129;01mis\u001b[39;00m \u001b[38;5;28;01mNone\u001b[39;00m:\n\u001b[1;32m-> 1486\u001b[0m   outputs \u001b[38;5;241m=\u001b[39m \u001b[43mexecute\u001b[49m\u001b[38;5;241;43m.\u001b[39;49m\u001b[43mexecute\u001b[49m\u001b[43m(\u001b[49m\n\u001b[0;32m   1487\u001b[0m \u001b[43m      \u001b[49m\u001b[43mname\u001b[49m\u001b[38;5;241;43m.\u001b[39;49m\u001b[43mdecode\u001b[49m\u001b[43m(\u001b[49m\u001b[38;5;124;43m\"\u001b[39;49m\u001b[38;5;124;43mutf-8\u001b[39;49m\u001b[38;5;124;43m\"\u001b[39;49m\u001b[43m)\u001b[49m\u001b[43m,\u001b[49m\n\u001b[0;32m   1488\u001b[0m \u001b[43m      \u001b[49m\u001b[43mnum_outputs\u001b[49m\u001b[38;5;241;43m=\u001b[39;49m\u001b[43mnum_outputs\u001b[49m\u001b[43m,\u001b[49m\n\u001b[0;32m   1489\u001b[0m \u001b[43m      \u001b[49m\u001b[43minputs\u001b[49m\u001b[38;5;241;43m=\u001b[39;49m\u001b[43mtensor_inputs\u001b[49m\u001b[43m,\u001b[49m\n\u001b[0;32m   1490\u001b[0m \u001b[43m      \u001b[49m\u001b[43mattrs\u001b[49m\u001b[38;5;241;43m=\u001b[39;49m\u001b[43mattrs\u001b[49m\u001b[43m,\u001b[49m\n\u001b[0;32m   1491\u001b[0m \u001b[43m      \u001b[49m\u001b[43mctx\u001b[49m\u001b[38;5;241;43m=\u001b[39;49m\u001b[38;5;28;43mself\u001b[39;49m\u001b[43m,\u001b[49m\n\u001b[0;32m   1492\u001b[0m \u001b[43m  \u001b[49m\u001b[43m)\u001b[49m\n\u001b[0;32m   1493\u001b[0m \u001b[38;5;28;01melse\u001b[39;00m:\n\u001b[0;32m   1494\u001b[0m   outputs \u001b[38;5;241m=\u001b[39m execute\u001b[38;5;241m.\u001b[39mexecute_with_cancellation(\n\u001b[0;32m   1495\u001b[0m       name\u001b[38;5;241m.\u001b[39mdecode(\u001b[38;5;124m\"\u001b[39m\u001b[38;5;124mutf-8\u001b[39m\u001b[38;5;124m\"\u001b[39m),\n\u001b[0;32m   1496\u001b[0m       num_outputs\u001b[38;5;241m=\u001b[39mnum_outputs,\n\u001b[1;32m   (...)\u001b[0m\n\u001b[0;32m   1500\u001b[0m       cancellation_manager\u001b[38;5;241m=\u001b[39mcancellation_context,\n\u001b[0;32m   1501\u001b[0m   )\n",
            "File \u001b[1;32mc:\\Users\\HP\\AppData\\Local\\Programs\\Python\\Python311\\Lib\\site-packages\\tensorflow\\python\\eager\\execute.py:53\u001b[0m, in \u001b[0;36mquick_execute\u001b[1;34m(op_name, num_outputs, inputs, attrs, ctx, name)\u001b[0m\n\u001b[0;32m     51\u001b[0m \u001b[38;5;28;01mtry\u001b[39;00m:\n\u001b[0;32m     52\u001b[0m   ctx\u001b[38;5;241m.\u001b[39mensure_initialized()\n\u001b[1;32m---> 53\u001b[0m   tensors \u001b[38;5;241m=\u001b[39m \u001b[43mpywrap_tfe\u001b[49m\u001b[38;5;241;43m.\u001b[39;49m\u001b[43mTFE_Py_Execute\u001b[49m\u001b[43m(\u001b[49m\u001b[43mctx\u001b[49m\u001b[38;5;241;43m.\u001b[39;49m\u001b[43m_handle\u001b[49m\u001b[43m,\u001b[49m\u001b[43m \u001b[49m\u001b[43mdevice_name\u001b[49m\u001b[43m,\u001b[49m\u001b[43m \u001b[49m\u001b[43mop_name\u001b[49m\u001b[43m,\u001b[49m\n\u001b[0;32m     54\u001b[0m \u001b[43m                                      \u001b[49m\u001b[43minputs\u001b[49m\u001b[43m,\u001b[49m\u001b[43m \u001b[49m\u001b[43mattrs\u001b[49m\u001b[43m,\u001b[49m\u001b[43m \u001b[49m\u001b[43mnum_outputs\u001b[49m\u001b[43m)\u001b[49m\n\u001b[0;32m     55\u001b[0m \u001b[38;5;28;01mexcept\u001b[39;00m core\u001b[38;5;241m.\u001b[39m_NotOkStatusException \u001b[38;5;28;01mas\u001b[39;00m e:\n\u001b[0;32m     56\u001b[0m   \u001b[38;5;28;01mif\u001b[39;00m name \u001b[38;5;129;01mis\u001b[39;00m \u001b[38;5;129;01mnot\u001b[39;00m \u001b[38;5;28;01mNone\u001b[39;00m:\n",
            "\u001b[1;31mKeyboardInterrupt\u001b[0m: "
          ]
        }
      ],
      "source": [
        "from tensorflow.keras.callbacks import EarlyStopping, ModelCheckpoint, Callback\n",
        "\n",
        "class WeightsLogger(Callback):\n",
        "    def __init__(self):\n",
        "        super(WeightsLogger, self).__init__()\n",
        "        self.logs = []  # List to store weights and epochs\n",
        "\n",
        "    def on_epoch_end(self, epoch, logs=None):\n",
        "        weights = self.model.get_weights()\n",
        "        self.logs.append({\n",
        "            'epoch': epoch + 1,\n",
        "            'weights': weights\n",
        "        })\n",
        "\n",
        "    def on_train_end(self, logs=None):\n",
        "        # Save weights logs to CSV file\n",
        "        df = pd.DataFrame(self.logs)\n",
        "        df.to_csv('Hasil Training\\ModelAdam\\Bobot.csv', index=False)\n",
        "\n",
        "class MetricsLogger(Callback):\n",
        "    def __init__(self):\n",
        "        super(MetricsLogger, self).__init__()\n",
        "        self.logs = []\n",
        "\n",
        "    def on_epoch_begin(self, epoch, logs=None):\n",
        "        self.epoch_start_time = time.time()\n",
        "\n",
        "    def on_epoch_end(self, epoch, logs=None):\n",
        "        elapsed_time = time.time() - self.epoch_start_time\n",
        "        elapsed_time_rounded = round(elapsed_time)  # Round to nearest second\n",
        "        log_entry = {\n",
        "            'epoch': epoch + 1,\n",
        "            'accuracy': logs.get('accuracy'),\n",
        "            'val_accuracy': logs.get('val_accuracy'),\n",
        "            'loss': logs.get('loss'),\n",
        "            'val_loss': logs.get('val_loss'),\n",
        "            'time': elapsed_time_rounded\n",
        "        }\n",
        "        self.logs.append(log_entry)\n",
        "\n",
        "    def on_train_end(self, logs=None):\n",
        "        df = pd.DataFrame(self.logs)\n",
        "        df = df[['epoch', 'accuracy', 'val_accuracy', 'loss', 'val_loss', 'time']]\n",
        "        df.to_csv('Hasil Training/training_metricsAdam.csv', index=False)\n",
        "\n",
        "checkpoint = ModelCheckpoint(\n",
        "    filepath='Hasil Training\\ModelAdam\\modelAdam_epoch_{epoch:02d}.keras',  # Filepath to save model, including epoch number\n",
        "    save_weights_only=False,                # Save the whole model, not just weights\n",
        "    save_freq='epoch',                      # Save the model at the end of every epoch\n",
        "    save_best_only=False                    # Save model every epoch, not just the best one\n",
        ")\n",
        "weights_logger = WeightsLogger()\n",
        "metrics_logger = MetricsLogger()\n",
        "historyAdam = modelAdam.fit(np.array(X_tr).astype(int),\n",
        "                    np.array(y_tr).astype(int),\n",
        "                    batch_size=BATCH_SIZE,\n",
        "                    epochs=50,\n",
        "                    validation_split=0.1,\n",
        "                    verbose=1,\n",
        "                    shuffle=False,\n",
        "                    callbacks=[weights_logger,metrics_logger,checkpoint])"
      ]
    },
    {
      "cell_type": "markdown",
      "metadata": {
        "id": "iv4LTQPTjnel"
      },
      "source": [
        "### Save Model"
      ]
    },
    {
      "cell_type": "code",
      "execution_count": null,
      "metadata": {
        "execution": {
          "iopub.execute_input": "2024-06-28T13:58:33.159586Z",
          "iopub.status.busy": "2024-06-28T13:58:33.159119Z",
          "iopub.status.idle": "2024-06-28T13:58:33.201538Z",
          "shell.execute_reply": "2024-06-28T13:58:33.200640Z",
          "shell.execute_reply.started": "2024-06-28T13:58:33.159547Z"
        },
        "id": "as-Vo3QHjnel",
        "trusted": true
      },
      "outputs": [],
      "source": [
        "pathAdam = 'Hasil Training\\modelAdam.keras'\n",
        "modelAdam.save(pathAdam)\n",
        "modelAdam.save_weights('Hasil Training\\modelAdam.weights.h5')"
      ]
    },
    {
      "cell_type": "markdown",
      "metadata": {
        "id": "2g5kwrIAjnel"
      },
      "source": [
        "### Load Model"
      ]
    },
    {
      "cell_type": "code",
      "execution_count": null,
      "metadata": {
        "execution": {
          "iopub.execute_input": "2024-06-28T13:58:33.202921Z",
          "iopub.status.busy": "2024-06-28T13:58:33.202642Z",
          "iopub.status.idle": "2024-06-28T13:58:33.207595Z",
          "shell.execute_reply": "2024-06-28T13:58:33.206326Z",
          "shell.execute_reply.started": "2024-06-28T13:58:33.202896Z"
        },
        "id": "9A2CF_ufjnel",
        "trusted": true
      },
      "outputs": [],
      "source": [
        "# from tensorflow.keras.models import load_model\n",
        "# save_pathAdam = 'Hasil Training\\modelAdam.keras'\n",
        "# modelAdam = load_model(save_pathAdam)\n",
        "# modelAdam.load_weights('Hasil Training\\modelAdam.weights.h5')"
      ]
    },
    {
      "cell_type": "markdown",
      "metadata": {
        "id": "b-TOWhhejnem"
      },
      "source": [
        "### Grafik Akurasi dan Loss"
      ]
    },
    {
      "cell_type": "code",
      "execution_count": null,
      "metadata": {
        "execution": {
          "iopub.execute_input": "2024-06-28T13:58:33.209258Z",
          "iopub.status.busy": "2024-06-28T13:58:33.208944Z",
          "iopub.status.idle": "2024-06-28T13:58:33.703802Z",
          "shell.execute_reply": "2024-06-28T13:58:33.702839Z",
          "shell.execute_reply.started": "2024-06-28T13:58:33.209231Z"
        },
        "id": "V0tIqp6Ljnem",
        "trusted": true
      },
      "outputs": [],
      "source": [
        "acc = historyAdam.history['accuracy']\n",
        "val_acc = historyAdam.history['val_accuracy']\n",
        "\n",
        "loss = historyAdam.history['loss']\n",
        "val_loss = historyAdam.history['val_loss']\n",
        "\n",
        "plt.figure(figsize=(8, 8))\n",
        "plt.subplot(2, 1, 1)\n",
        "plt.plot(acc, label='Training Accuracy')\n",
        "plt.plot(val_acc, label='Validation Accuracy')\n",
        "plt.legend(loc='lower right')\n",
        "plt.ylabel('Accuracy')\n",
        "plt.ylim([min(plt.ylim()),1])\n",
        "plt.title('Training and Validation Accuracy')\n",
        "\n",
        "plt.subplot(2, 1, 2)\n",
        "plt.plot(loss, label='Training Loss')\n",
        "plt.plot(val_loss, label='Validation Loss')\n",
        "plt.legend(loc='upper right')\n",
        "plt.ylabel('Cross Entropy')\n",
        "plt.ylim([0,1.0])\n",
        "plt.title('Training and Validation Loss')\n",
        "plt.xlabel('epoch')\n",
        "plt.show()"
      ]
    },
    {
      "cell_type": "markdown",
      "metadata": {
        "id": "RjuRTISQjnem"
      },
      "source": [
        "## Skenario III (Rmsprop)"
      ]
    },
    {
      "cell_type": "code",
      "execution_count": null,
      "metadata": {
        "execution": {
          "iopub.execute_input": "2024-06-28T14:00:19.044087Z",
          "iopub.status.busy": "2024-06-28T14:00:19.043706Z",
          "iopub.status.idle": "2024-06-28T14:00:19.148332Z",
          "shell.execute_reply": "2024-06-28T14:00:19.147344Z",
          "shell.execute_reply.started": "2024-06-28T14:00:19.044050Z"
        },
        "id": "Jgb7lo7Ljnen",
        "trusted": true
      },
      "outputs": [],
      "source": [
        "from keras import Model\n",
        "from keras import optimizers\n",
        "from keras.layers import Input, LSTM, Embedding, Dense, TimeDistributed, Dropout, Bidirectional, SpatialDropout1D, Reshape\n",
        "from keras.initializers import glorot_uniform\n",
        "from keras.utils import plot_model\n",
        "\n",
        "input = Input(shape=(MAX_LEN, cbow_model.vector_size))\n",
        "\n",
        "modelRmsprop = Dropout(0.1)(input)\n",
        "modelRmsprop = Bidirectional(LSTM(units=100, return_sequences=True, recurrent_dropout=0.1))(modelRmsprop)\n",
        "\n",
        "out = TimeDistributed(Dense(n_tags+1, activation=\"softmax\"))(modelRmsprop)  # softmax output layer\n",
        "\n",
        "modelRmsprop = Model(input, out)\n",
        "\n",
        "modelRmsprop.compile(optimizer=\"rmsprop\", loss=\"categorical_crossentropy\", metrics=[\"accuracy\"])\n",
        "\n",
        "modelRmsprop.summary()"
      ]
    },
    {
      "cell_type": "code",
      "execution_count": null,
      "metadata": {
        "execution": {
          "iopub.execute_input": "2024-06-28T14:00:20.397853Z",
          "iopub.status.busy": "2024-06-28T14:00:20.397433Z",
          "iopub.status.idle": "2024-06-28T14:00:20.530091Z",
          "shell.execute_reply": "2024-06-28T14:00:20.529044Z",
          "shell.execute_reply.started": "2024-06-28T14:00:20.397824Z"
        },
        "id": "eIZYvwZBjnen",
        "trusted": true
      },
      "outputs": [],
      "source": [
        "from keras.utils import plot_model\n",
        "\n",
        "plot_model(modelRmsprop, to_file='model_visualizationRmsprop.png', show_shapes=True, show_layer_names=True)\n",
        "\n",
        "from IPython.display import Image\n",
        "\n",
        "image_path = 'Visualisasi Model\\model_visualizationRmsprop.png'\n",
        "display(Image(filename=image_path))\n",
        "with open(image_path, 'rb') as img_file:\n",
        "    img_data = img_file.read()"
      ]
    },
    {
      "cell_type": "markdown",
      "metadata": {
        "id": "g-wZnzuMjnen"
      },
      "source": [
        "### Training Model Bi-LSTM (Rmsprop)"
      ]
    },
    {
      "cell_type": "code",
      "execution_count": null,
      "metadata": {
        "execution": {
          "iopub.execute_input": "2024-06-28T14:00:22.245370Z",
          "iopub.status.busy": "2024-06-28T14:00:22.244587Z",
          "iopub.status.idle": "2024-06-28T14:50:42.011635Z",
          "shell.execute_reply": "2024-06-28T14:50:42.010496Z",
          "shell.execute_reply.started": "2024-06-28T14:00:22.245323Z"
        },
        "id": "-CPS-DBsjnen",
        "trusted": true
      },
      "outputs": [],
      "source": [
        "from tensorflow.keras.callbacks import EarlyStopping, ModelCheckpoint, Callback\n",
        "import time\n",
        "\n",
        "class WeightsLogger(Callback):\n",
        "    def __init__(self):\n",
        "        super(WeightsLogger, self).__init__()\n",
        "        self.logs = []  # List to store weights and epochs\n",
        "\n",
        "    def on_epoch_end(self, epoch, logs=None):\n",
        "        weights = self.model.get_weights()\n",
        "        self.logs.append({\n",
        "            'epoch': epoch + 1,\n",
        "            'weights': weights\n",
        "        })\n",
        "\n",
        "    def on_train_end(self, logs=None):\n",
        "        # Save weights logs to CSV file\n",
        "        df = pd.DataFrame(self.logs)\n",
        "        df.to_csv('Hasil Training\\ModelRmsprop\\Bobot.csv', index=False)\n",
        "\n",
        "class MetricsLogger(Callback):\n",
        "    def __init__(self):\n",
        "        super(MetricsLogger, self).__init__()\n",
        "        self.logs = []\n",
        "\n",
        "    def on_epoch_begin(self, epoch, logs=None):\n",
        "        self.epoch_start_time = time.time()\n",
        "\n",
        "    def on_epoch_end(self, epoch, logs=None):\n",
        "        elapsed_time = time.time() - self.epoch_start_time\n",
        "        elapsed_time_rounded = round(elapsed_time)  # Round to nearest second\n",
        "        log_entry = {\n",
        "            'epoch': epoch + 1,\n",
        "            'accuracy': logs.get('accuracy'),\n",
        "            'val_accuracy': logs.get('val_accuracy'),\n",
        "            'loss': logs.get('loss'),\n",
        "            'val_loss': logs.get('val_loss'),\n",
        "            'time': elapsed_time_rounded\n",
        "        }\n",
        "        self.logs.append(log_entry)\n",
        "\n",
        "    def on_train_end(self, logs=None):\n",
        "        df = pd.DataFrame(self.logs)\n",
        "        df = df[['epoch', 'accuracy', 'val_accuracy', 'loss', 'val_loss', 'time']]\n",
        "        df.to_csv('Hasil Training/training_metricsRmsprop.csv', index=False)\n",
        "\n",
        "checkpoint = ModelCheckpoint(\n",
        "    filepath='Hasil Training\\ModelRmsprop\\modelRmsprop_epoch_{epoch:02d}.keras',  # Filepath to save model, including epoch number\n",
        "    save_weights_only=False,                # Save the whole model, not just weights\n",
        "    save_freq='epoch',                      # Save the model at the end of every epoch\n",
        "    save_best_only=False                    # Save model every epoch, not just the best one\n",
        ")\n",
        "Weights_Logger = WeightsLogger()\n",
        "metrics_logger = MetricsLogger()\n",
        "\n",
        "historyRmsprop = modelRmsprop.fit(np.array(X_tr).astype(int),\n",
        "                    np.array(y_tr).astype(int),\n",
        "                    batch_size=BATCH_SIZE,\n",
        "                    epochs=50,\n",
        "                    validation_split=0.1,\n",
        "                    verbose=1,\n",
        "                    shuffle=False,\n",
        "                    callbacks=[Weights_Logger,metrics_logger,checkpoint])"
      ]
    },
    {
      "cell_type": "markdown",
      "metadata": {
        "id": "lx2i5AEDjneo"
      },
      "source": [
        "### Save Model"
      ]
    },
    {
      "cell_type": "code",
      "execution_count": null,
      "metadata": {
        "execution": {
          "iopub.execute_input": "2024-06-28T14:55:19.772190Z",
          "iopub.status.busy": "2024-06-28T14:55:19.771184Z",
          "iopub.status.idle": "2024-06-28T14:55:19.809529Z",
          "shell.execute_reply": "2024-06-28T14:55:19.808654Z",
          "shell.execute_reply.started": "2024-06-28T14:55:19.772157Z"
        },
        "id": "qmbl7NO7jneo",
        "trusted": true
      },
      "outputs": [],
      "source": [
        "pathRmsprop = 'Hasil Training\\modelRmsprop.keras'\n",
        "modelRmsprop.save(pathRmsprop)\n",
        "modelRmsprop.save_weights('Hasil Training\\modelRmsprop.weights.h5')"
      ]
    },
    {
      "cell_type": "markdown",
      "metadata": {
        "id": "O4IoLMKejneo"
      },
      "source": [
        "### Load Model"
      ]
    },
    {
      "cell_type": "code",
      "execution_count": null,
      "metadata": {
        "execution": {
          "iopub.status.busy": "2024-06-28T13:58:34.118000Z",
          "iopub.status.idle": "2024-06-28T13:58:34.118524Z",
          "shell.execute_reply": "2024-06-28T13:58:34.118265Z",
          "shell.execute_reply.started": "2024-06-28T13:58:34.118243Z"
        },
        "id": "XMKwIpQGjneo",
        "trusted": true
      },
      "outputs": [],
      "source": [
        "# from tensorflow.keras.models import load_model\n",
        "# save_pathAdam = 'Hasil Training\\modelRmsprop.keras'\n",
        "# modelAdam = load_model(save_pathAdam)\n",
        "# modelAdam.load_weights('Hasil Training\\modelRmsprop.weights.h5')"
      ]
    },
    {
      "cell_type": "markdown",
      "metadata": {
        "id": "ni1ItUYQjneo"
      },
      "source": [
        "### Grafik Akurasi dan Loss"
      ]
    },
    {
      "cell_type": "code",
      "execution_count": null,
      "metadata": {
        "execution": {
          "iopub.execute_input": "2024-06-28T14:55:26.717637Z",
          "iopub.status.busy": "2024-06-28T14:55:26.717295Z",
          "iopub.status.idle": "2024-06-28T14:55:27.276653Z",
          "shell.execute_reply": "2024-06-28T14:55:27.275511Z",
          "shell.execute_reply.started": "2024-06-28T14:55:26.717610Z"
        },
        "id": "03AjEyZRjnep",
        "trusted": true
      },
      "outputs": [],
      "source": [
        "acc = historyRmsprop.history['accuracy']\n",
        "val_acc = historyRmsprop.history['val_accuracy']\n",
        "\n",
        "loss = historyRmsprop.history['loss']\n",
        "val_loss = historyRmsprop.history['val_loss']\n",
        "\n",
        "plt.figure(figsize=(8, 8))\n",
        "plt.subplot(2, 1, 1)\n",
        "plt.plot(acc, label='Training Accuracy')\n",
        "plt.plot(val_acc, label='Validation Accuracy')\n",
        "plt.legend(loc='lower right')\n",
        "plt.ylabel('Accuracy')\n",
        "plt.ylim([min(plt.ylim()),1])\n",
        "plt.title('Training and Validation Accuracy')\n",
        "\n",
        "plt.subplot(2, 1, 2)\n",
        "plt.plot(loss, label='Training Loss')\n",
        "plt.plot(val_loss, label='Validation Loss')\n",
        "plt.legend(loc='upper right')\n",
        "plt.ylabel('Cross Entropy')\n",
        "plt.ylim([0,0.2])\n",
        "plt.title('Training and Validation Loss')\n",
        "plt.xlabel('epoch')\n",
        "plt.show()"
      ]
    },
    {
      "cell_type": "markdown",
      "metadata": {
        "id": "O_AGtwAhjnep"
      },
      "source": [
        "## Evaluasi Model"
      ]
    },
    {
      "cell_type": "code",
      "execution_count": null,
      "metadata": {
        "execution": {
          "iopub.execute_input": "2024-06-28T15:14:24.350969Z",
          "iopub.status.busy": "2024-06-28T15:14:24.350203Z",
          "iopub.status.idle": "2024-06-28T15:14:51.544151Z",
          "shell.execute_reply": "2024-06-28T15:14:51.543214Z",
          "shell.execute_reply.started": "2024-06-28T15:14:24.350931Z"
        },
        "id": "cIoWjGl0jnep",
        "trusted": true
      },
      "outputs": [],
      "source": [
        "eveSGD = modelSGD.predict(X_te)\n",
        "eveAdam = modelAdam.predict(X_te)\n",
        "eveRmsprop = modelRmsprop.predict(X_te)"
      ]
    },
    {
      "cell_type": "code",
      "execution_count": null,
      "metadata": {
        "execution": {
          "iopub.execute_input": "2024-06-28T15:35:19.682565Z",
          "iopub.status.busy": "2024-06-28T15:35:19.681786Z",
          "iopub.status.idle": "2024-06-28T15:35:19.691483Z",
          "shell.execute_reply": "2024-06-28T15:35:19.690455Z",
          "shell.execute_reply.started": "2024-06-28T15:35:19.682530Z"
        },
        "id": "rvZnJVoMjneq",
        "trusted": true
      },
      "outputs": [],
      "source": [
        "from sklearn.metrics import classification_report, precision_score, recall_score, f1_score\n",
        "\n",
        "def c_report(y_true, y_pred):\n",
        "    # Menggabungkan elemen-elemen array menjadi satu list\n",
        "    y_true_flat = [item for sublist in y_true for item in sublist]\n",
        "    y_pred_flat = [item for sublist in y_pred for item in sublist]\n",
        "\n",
        "    # Menghitung macro average precision, recall, dan F1-score\n",
        "    precision_macro = precision_score(y_true_flat, y_pred_flat, average=\"macro\")\n",
        "    recall_macro = recall_score(y_true_flat, y_pred_flat, average=\"macro\")\n",
        "    f1_macro = f1_score(y_true_flat, y_pred_flat, average=\"macro\")\n",
        "\n",
        "    # Mencetak metrik macro average\n",
        "    print(\"Hasil evaluasi seluruh tag:\")\n",
        "    print(\"Precision Score (Macro): {:.2f}\".format(precision_macro))\n",
        "    print(\"Recall Score (Macro)   : {:.2f}\".format(recall_macro))\n",
        "    print(\"F1-score Score (Macro) : {:.2f}\".format(f1_macro))\n",
        "\n",
        "    # Menghasilkan laporan klasifikasi\n",
        "    report = classification_report(y_true_flat, y_pred_flat)\n",
        "\n",
        "    # Mencetak laporan klasifikasi\n",
        "    print(\"\\nLaporan Klasifikasi Setiap Tag:\")\n",
        "    print(report)\n",
        "\n",
        "    return {\n",
        "        \"precision_macro\": precision_macro,\n",
        "        \"recall_macro\": recall_macro,\n",
        "        \"f1_macro\": f1_macro,\n",
        "        \"classification_report\": report\n",
        "    }"
      ]
    },
    {
      "cell_type": "code",
      "execution_count": null,
      "metadata": {
        "execution": {
          "iopub.execute_input": "2024-06-28T15:45:24.303449Z",
          "iopub.status.busy": "2024-06-28T15:45:24.302531Z",
          "iopub.status.idle": "2024-06-28T15:45:24.313241Z",
          "shell.execute_reply": "2024-06-28T15:45:24.312221Z",
          "shell.execute_reply.started": "2024-06-28T15:45:24.303402Z"
        },
        "id": "EFc6fr1vjneq",
        "trusted": true
      },
      "outputs": [],
      "source": [
        "import pandas as pd\n",
        "import numpy as np\n",
        "import matplotlib.pyplot as plt\n",
        "from sklearn.metrics import classification_report\n",
        "\n",
        "# Fungsi untuk membuat classification report dan mengubahnya menjadi gambar tabel\n",
        "def Visualisasi_c_report(y_true, y_pred, filename='classification_reportSGD.png'):\n",
        "    # Menggabungkan elemen-elemen array menjadi satu list\n",
        "    y_true_flat = [item for sublist in y_true for item in sublist]\n",
        "    y_pred_flat = [item for sublist in y_pred for item in sublist]\n",
        "\n",
        "    # Menghitung classification report\n",
        "    report_dict = classification_report(y_true_flat, y_pred_flat, output_dict=True)\n",
        "    report_df = pd.DataFrame(report_dict).transpose()\n",
        "\n",
        "    # Membulatkan nilai-nilai dalam report_dfSGD menjadi dua angka desimal\n",
        "#     report_df = report_df.applymap(lambda x: round(x, 2))\n",
        "    report_df = report_df.round(2)\n",
        "\n",
        "    # Membuat gambar tabel\n",
        "    fig, ax = plt.subplots(figsize=(10, 6))  # Ukuran gambar dapat disesuaikan\n",
        "    ax.axis('tight')\n",
        "    ax.axis('off')\n",
        "    table = ax.table(cellText=report_df.values, colLabels=report_df.columns, rowLabels=report_df.index, cellLoc='center', loc='center')\n",
        "\n",
        "    # Mengatur gaya tabel\n",
        "    table.auto_set_font_size(False)\n",
        "    table.set_fontsize(12)\n",
        "    table.scale(1.2, 1.2)\n",
        "\n",
        "    # Menyimpan gambar tabel ke file\n",
        "    plt.savefig(filename, bbox_inches='tight', pad_inches=0.1)"
      ]
    },
    {
      "cell_type": "markdown",
      "metadata": {
        "id": "q0OlurLIjner"
      },
      "source": [
        "### Evaluasi SGD"
      ]
    },
    {
      "cell_type": "code",
      "execution_count": null,
      "metadata": {
        "execution": {
          "iopub.execute_input": "2024-06-28T15:36:02.775088Z",
          "iopub.status.busy": "2024-06-28T15:36:02.774171Z",
          "iopub.status.idle": "2024-06-28T15:36:03.155795Z",
          "shell.execute_reply": "2024-06-28T15:36:03.154928Z",
          "shell.execute_reply.started": "2024-06-28T15:36:02.775049Z"
        },
        "id": "qI7tBqDFjner",
        "trusted": true
      },
      "outputs": [],
      "source": [
        "y_test_trueSGD = np.argmax(y_te, -1)\n",
        "y_predSGD = np.argmax(eveSGD, axis=-1)\n",
        "\n",
        "# Convert the index to tag\n",
        "y_test_trueSGD = [[idx2tag[i] for i in row] for row in y_test_trueSGD]\n",
        "y_predSGD = [[idx2tag[i] for i in row] for row in y_predSGD]"
      ]
    },
    {
      "cell_type": "markdown",
      "metadata": {
        "id": "fZLQGN4pjner"
      },
      "source": [
        "Classification Report"
      ]
    },
    {
      "cell_type": "code",
      "execution_count": null,
      "metadata": {
        "execution": {
          "iopub.execute_input": "2024-06-28T15:36:11.678751Z",
          "iopub.status.busy": "2024-06-28T15:36:11.678401Z",
          "iopub.status.idle": "2024-06-28T15:36:27.632388Z",
          "shell.execute_reply": "2024-06-28T15:36:27.631482Z",
          "shell.execute_reply.started": "2024-06-28T15:36:11.678724Z"
        },
        "id": "RCs3g0Wxjnes",
        "trusted": true
      },
      "outputs": [],
      "source": [
        "hasil_evaluasiSGD = c_report(y_test_trueSGD, y_predSGD)"
      ]
    },
    {
      "cell_type": "code",
      "execution_count": null,
      "metadata": {
        "execution": {
          "iopub.execute_input": "2024-06-28T15:45:34.145576Z",
          "iopub.status.busy": "2024-06-28T15:45:34.145170Z",
          "iopub.status.idle": "2024-06-28T15:45:42.599733Z",
          "shell.execute_reply": "2024-06-28T15:45:42.598719Z",
          "shell.execute_reply.started": "2024-06-28T15:45:34.145546Z"
        },
        "id": "QGXQp-tOjnes",
        "trusted": true
      },
      "outputs": [],
      "source": [
        "report_image_pathSGD = 'Classification Report\\classification_report_SGD.png'\n",
        "Visualisasi_c_report(y_test_trueSGD, y_predSGD, filename=report_image_pathSGD)\n",
        "\n",
        "# Memeriksa apakah file gambar telah dibuat\n",
        "import os\n",
        "if os.path.exists(report_image_pathSGD):\n",
        "    print(f'Gambar classification report berhasil disimpan: {report_image_pathSGD}')\n",
        "else:\n",
        "    print('Gagal menyimpan gambar classification report.')\n"
      ]
    },
    {
      "cell_type": "markdown",
      "metadata": {
        "id": "74l8Unyujnet"
      },
      "source": [
        "Confusion Matrix"
      ]
    },
    {
      "cell_type": "code",
      "execution_count": null,
      "metadata": {
        "execution": {
          "iopub.execute_input": "2024-06-28T15:37:03.195097Z",
          "iopub.status.busy": "2024-06-28T15:37:03.194376Z",
          "iopub.status.idle": "2024-06-28T15:37:06.643188Z",
          "shell.execute_reply": "2024-06-28T15:37:06.642223Z",
          "shell.execute_reply.started": "2024-06-28T15:37:03.195048Z"
        },
        "id": "E0lstbR9jnet",
        "trusted": true
      },
      "outputs": [],
      "source": [
        "from sklearn.metrics import confusion_matrix\n",
        "import seaborn as sns\n",
        "import matplotlib.pyplot as plt\n",
        "from sklearn.metrics import classification_report\n",
        "\n",
        "# Definisi class_names (sesuaikan dengan label yang sesuai dalam datasetmu)\n",
        "class_names = ['B_ARTV', 'B_CRIA', 'B_DEFN', 'B_JUG', 'B_JUDP', 'B_PENA', 'B_PROS', 'B_PUNI', 'B_REGI', 'B_TIMV', 'B_VERN', 'I_ARTV', 'I_CRIA', 'I_DEFN', 'I_JUG', 'I_JUDP', 'I_PENA', 'I_PROS', 'I_PUNI', 'I_REGI', 'I_TIMV', 'I_VERN', 'O']\n",
        "\n",
        "conf_matSGD = confusion_matrix([item for sublist in y_test_trueSGD for item in sublist],\n",
        "                            [item for sublist in y_predSGD for item in sublist],\n",
        "                            labels=class_names)\n",
        "# Visualisasi confusion matrix menggunakan heatmap\n",
        "plt.figure(figsize=(10, 8))\n",
        "sns.heatmap(conf_matSGD, annot=True, fmt=\".0f\", cmap=\"Blues\",\n",
        "            xticklabels=class_names, yticklabels=class_names)\n",
        "plt.title(\"Confusion Matrix SGD\")\n",
        "plt.xlabel(\"Predicted Label SGD\")\n",
        "plt.ylabel(\"True Label SGD\")\n",
        "plt.show()\n"
      ]
    },
    {
      "cell_type": "markdown",
      "metadata": {
        "id": "idRv-um8jnet"
      },
      "source": [
        "### Evaluasi Adam"
      ]
    },
    {
      "cell_type": "code",
      "execution_count": null,
      "metadata": {
        "execution": {
          "iopub.execute_input": "2024-06-28T15:38:11.536735Z",
          "iopub.status.busy": "2024-06-28T15:38:11.536145Z",
          "iopub.status.idle": "2024-06-28T15:38:11.932666Z",
          "shell.execute_reply": "2024-06-28T15:38:11.931863Z",
          "shell.execute_reply.started": "2024-06-28T15:38:11.536687Z"
        },
        "id": "yQ8WzL7pjnet",
        "trusted": true
      },
      "outputs": [],
      "source": [
        "y_test_trueAdam = np.argmax(y_te, -1)\n",
        "y_predAdam = np.argmax(eveAdam, axis=-1)\n",
        "\n",
        "# Convert the index to tag\n",
        "y_test_trueAdam = [[idx2tag[i] for i in row] for row in y_test_trueAdam]\n",
        "y_predAdam = [[idx2tag[i] for i in row] for row in y_predAdam]"
      ]
    },
    {
      "cell_type": "markdown",
      "metadata": {
        "id": "4sfHxITEjneu"
      },
      "source": [
        "Classification Report"
      ]
    },
    {
      "cell_type": "code",
      "execution_count": null,
      "metadata": {
        "execution": {
          "iopub.execute_input": "2024-06-28T15:38:12.135673Z",
          "iopub.status.busy": "2024-06-28T15:38:12.135239Z",
          "iopub.status.idle": "2024-06-28T15:38:28.040692Z",
          "shell.execute_reply": "2024-06-28T15:38:28.039650Z",
          "shell.execute_reply.started": "2024-06-28T15:38:12.135641Z"
        },
        "id": "27WbK1_kjneu",
        "trusted": true
      },
      "outputs": [],
      "source": [
        "hasil_evaluasiAdam = c_report(y_test_trueAdam, y_predAdam)"
      ]
    },
    {
      "cell_type": "code",
      "execution_count": null,
      "metadata": {
        "execution": {
          "iopub.execute_input": "2024-06-28T15:45:50.406328Z",
          "iopub.status.busy": "2024-06-28T15:45:50.405563Z",
          "iopub.status.idle": "2024-06-28T15:45:58.973881Z",
          "shell.execute_reply": "2024-06-28T15:45:58.972834Z",
          "shell.execute_reply.started": "2024-06-28T15:45:50.406274Z"
        },
        "id": "8-63yLv8jneu",
        "trusted": true
      },
      "outputs": [],
      "source": [
        "report_image_pathAdam = 'Classification Report\\classification_report_Adam.png'\n",
        "Visualisasi_c_report(y_test_trueAdam, y_predAdam, filename=report_image_pathAdam)\n",
        "\n",
        "# Memeriksa apakah file gambar telah dibuat\n",
        "import os\n",
        "if os.path.exists(report_image_pathAdam):\n",
        "    print(f'Gambar classification report berhasil disimpan: {report_image_pathAdam}')\n",
        "else:\n",
        "    print('Gagal menyimpan gambar classification report.')"
      ]
    },
    {
      "cell_type": "markdown",
      "metadata": {
        "id": "lRM7i5L9jneu"
      },
      "source": [
        "Confusion matrix"
      ]
    },
    {
      "cell_type": "code",
      "execution_count": null,
      "metadata": {
        "execution": {
          "iopub.execute_input": "2024-06-28T15:42:55.219018Z",
          "iopub.status.busy": "2024-06-28T15:42:55.218617Z",
          "iopub.status.idle": "2024-06-28T15:42:58.700804Z",
          "shell.execute_reply": "2024-06-28T15:42:58.699532Z",
          "shell.execute_reply.started": "2024-06-28T15:42:55.218985Z"
        },
        "id": "cdZPhZP7jnev",
        "trusted": true
      },
      "outputs": [],
      "source": [
        "# Definisi class_names (sesuaikan dengan label yang sesuai dalam datasetmu)\n",
        "class_names = ['B_ARTV', 'B_CRIA', 'B_DEFN', 'B_JUG', 'B_JUDP', 'B_PENA', 'B_PROS', 'B_PUNI', 'B_REGI', 'B_TIMV', 'B_VERN', 'I_ARTV', 'I_CRIA', 'I_DEFN', 'I_JUG', 'I_JUDP', 'I_PENA', 'I_PROS', 'I_PUNI', 'I_REGI', 'I_TIMV', 'I_VERN', 'O']\n",
        "\n",
        "conf_matAdam = confusion_matrix([item for sublist in y_test_trueAdam for item in sublist],\n",
        "                            [item for sublist in y_predAdam for item in sublist],\n",
        "                            labels=class_names)\n",
        "# Visualisasi confusion matrix menggunakan heatmap\n",
        "plt.figure(figsize=(10, 8))\n",
        "sns.heatmap(conf_matAdam, annot=True, fmt=\".0f\", cmap=\"Blues\",\n",
        "            xticklabels=class_names, yticklabels=class_names)\n",
        "plt.title(\"Confusion Matrix Adam\")\n",
        "plt.xlabel(\"Predicted Label Adam\")\n",
        "plt.ylabel(\"True Label Adam\")\n",
        "plt.show()\n"
      ]
    },
    {
      "cell_type": "markdown",
      "metadata": {
        "id": "17bstOgSjnev"
      },
      "source": [
        "### Evaluasi Rmsprop"
      ]
    },
    {
      "cell_type": "code",
      "execution_count": null,
      "metadata": {
        "execution": {
          "iopub.execute_input": "2024-06-28T15:43:05.659209Z",
          "iopub.status.busy": "2024-06-28T15:43:05.658830Z",
          "iopub.status.idle": "2024-06-28T15:43:06.025644Z",
          "shell.execute_reply": "2024-06-28T15:43:06.024595Z",
          "shell.execute_reply.started": "2024-06-28T15:43:05.659177Z"
        },
        "id": "8qkMIUCVjnev",
        "trusted": true
      },
      "outputs": [],
      "source": [
        "y_test_trueRmsprop = np.argmax(y_te, -1)\n",
        "y_predRmsprop = np.argmax(eveRmsprop, axis=-1)\n",
        "\n",
        "# Convert the index to tag\n",
        "y_test_trueRmsprop = [[idx2tag[i] for i in row] for row in y_test_trueRmsprop]\n",
        "y_predRmsprop = [[idx2tag[i] for i in row] for row in y_predRmsprop]"
      ]
    },
    {
      "cell_type": "markdown",
      "metadata": {
        "id": "kwqeoJbsjnev"
      },
      "source": [
        "Classification Report"
      ]
    },
    {
      "cell_type": "code",
      "execution_count": null,
      "metadata": {
        "execution": {
          "iopub.execute_input": "2024-06-28T15:43:13.386944Z",
          "iopub.status.busy": "2024-06-28T15:43:13.386549Z",
          "iopub.status.idle": "2024-06-28T15:43:29.262442Z",
          "shell.execute_reply": "2024-06-28T15:43:29.261261Z",
          "shell.execute_reply.started": "2024-06-28T15:43:13.386913Z"
        },
        "id": "NB89g0v_jnev",
        "trusted": true
      },
      "outputs": [],
      "source": [
        "hasil_evaluasiRmsprop = c_report(y_test_trueRmsprop, y_predRmsprop)"
      ]
    },
    {
      "cell_type": "code",
      "execution_count": null,
      "metadata": {
        "execution": {
          "iopub.execute_input": "2024-06-28T15:46:13.611697Z",
          "iopub.status.busy": "2024-06-28T15:46:13.610752Z",
          "iopub.status.idle": "2024-06-28T15:46:22.103128Z",
          "shell.execute_reply": "2024-06-28T15:46:22.102082Z",
          "shell.execute_reply.started": "2024-06-28T15:46:13.611659Z"
        },
        "id": "KmvJZorbjnew",
        "trusted": true
      },
      "outputs": [],
      "source": [
        "report_image_pathRmsprop = 'Classification Report\\classification_report_Rmsprop.png'\n",
        "Visualisasi_c_report(y_test_trueRmsprop, y_predRmsprop, filename=report_image_pathRmsprop)\n",
        "\n",
        "# Memeriksa apakah file gambar telah dibuat\n",
        "import os\n",
        "if os.path.exists(report_image_pathRmsprop):\n",
        "    print(f'Gambar classification report berhasil disimpan: {report_image_pathRmsprop}')\n",
        "else:\n",
        "    print('Gagal menyimpan gambar classification report.')"
      ]
    },
    {
      "cell_type": "markdown",
      "metadata": {
        "id": "LIFNGdLojnew"
      },
      "source": [
        "Confusion Matrix"
      ]
    },
    {
      "cell_type": "code",
      "execution_count": null,
      "metadata": {
        "execution": {
          "iopub.execute_input": "2024-06-28T16:33:51.232804Z",
          "iopub.status.busy": "2024-06-28T16:33:51.231801Z",
          "iopub.status.idle": "2024-06-28T16:33:54.779541Z",
          "shell.execute_reply": "2024-06-28T16:33:54.778478Z",
          "shell.execute_reply.started": "2024-06-28T16:33:51.232760Z"
        },
        "id": "2VIEgET8jnew",
        "trusted": true
      },
      "outputs": [],
      "source": [
        "# Definisi class_names (sesuaikan dengan label yang sesuai dalam datasetmu)\n",
        "class_names = ['B_ARTV', 'B_CRIA', 'B_DEFN', 'B_JUG', 'B_JUDP', 'B_PENA', 'B_PROS', 'B_PUNI', 'B_REGI', 'B_TIMV', 'B_VERN', 'I_ARTV', 'I_CRIA', 'I_DEFN', 'I_JUG', 'I_JUDP', 'I_PENA', 'I_PROS', 'I_PUNI', 'I_REGI', 'I_TIMV', 'I_VERN', 'O']\n",
        "\n",
        "conf_matRmsprop = confusion_matrix([item for sublist in y_test_trueRmsprop for item in sublist],\n",
        "                            [item for sublist in y_predRmsprop for item in sublist],\n",
        "                            labels=class_names)\n",
        "# Visualisasi confusion matrix menggunakan heatmap\n",
        "plt.figure(figsize=(10, 8))\n",
        "sns.heatmap(conf_matRmsprop, annot=True, fmt=\".0f\", cmap=\"Blues\",\n",
        "            xticklabels=class_names, yticklabels=class_names)\n",
        "plt.title(\"Confusion Matrix Adam\")\n",
        "plt.xlabel(\"Predicted Label Adam\")\n",
        "plt.ylabel(\"True Label Adam\")\n",
        "plt.show()\n"
      ]
    },
    {
      "cell_type": "markdown",
      "metadata": {
        "id": "PT5c5-Kgjnex"
      },
      "source": [
        "## Prediksi Kalimat Baru"
      ]
    },
    {
      "cell_type": "code",
      "execution_count": null,
      "metadata": {
        "execution": {
          "iopub.execute_input": "2024-06-28T15:47:00.737139Z",
          "iopub.status.busy": "2024-06-28T15:47:00.736777Z",
          "iopub.status.idle": "2024-06-28T15:47:00.846468Z",
          "shell.execute_reply": "2024-06-28T15:47:00.845602Z",
          "shell.execute_reply.started": "2024-06-28T15:47:00.737103Z"
        },
        "id": "-m7v25qBjnex",
        "trusted": true
      },
      "outputs": [],
      "source": [
        "from pypdf import PdfReader\n",
        "import re\n",
        "\n",
        "def pdf_to_text(file_path):\n",
        "    text = \"\"\n",
        "    reader = PdfReader(file_path)\n",
        "    for page in reader.pages:\n",
        "        text += page.extract_text()\n",
        "    return text\n",
        "\n",
        "def preprocess_text(text):\n",
        "    text = text.replace(\"Mahkamah Agung Republik Indonesia\\nMahkamah Agung Republik Indonesia\\nMahkamah Agung Republik Indonesia\\nMahkamah Agung Republik Indonesia\\nMahkamah Agung Republik Indonesia\\nDirektori Putusan Mahkamah Agung Republik Indonesia\\nputusan.mahkamahagung.go.id\\n\", \"\")\n",
        "    text = text.replace(\"\\nDisclaimer\\nKepaniteraan Mahkamah Agung Republik Indonesia berusaha untuk selalu mencantumkan informasi paling kini dan akurat sebagai bentuk komitmen Mahkamah Agung untuk pelayanan publik, transparansi dan akuntabilitas\\npelaksanaan fungsi peradilan. Namun dalam hal-hal tertentu masih dimungkinkan terjadi permasalahan teknis terkait dengan akurasi dan keterkinian informasi yang kami sajikan, hal mana akan terus kami perbaiki dari waktu kewaktu.\\nDalam hal Anda menemukan inakurasi informasi yang termuat pada situs ini atau informasi yang seharusnya ada, namun belum tersedia, maka harap segera hubungi Kepaniteraan Mahkamah Agung RI melalui :\\nEmail : kepaniteraan@mahkamahagung.go.id\", \"\")\n",
        "    text = text.replace('P U T U S A N', 'PUTUSAN').replace('T erdakwa', 'Terdakwa').replace('T empat', 'Tempat').replace('T ahun', 'Tahun')\n",
        "    text = text.replace('P  E  N  E  T  A  P  A  N', 'PENETAPAN').replace('J u m l a h', 'Jumlah').replace('M E N G A D I L I', 'MENGADILI')\n",
        "    text = re.sub(r'(Hal\\.\\s*\\S+(?:\\s*\\S+)?\\.?\\s*)|(Halaman \\d+(?:\\.\\d+)?\\s*)|Putusan Nomor \\S+\\s*', '', text)\n",
        "    text = re.sub(r'\\b0+(\\d+)', r'\\1', text)\n",
        "    text = text.replace('\\uf0d8', '').replace('\\uf0b7', '').replace('\\n', ' ')\n",
        "    text = re.sub(r'([“”\"])', r' \\1 ', text)\n",
        "    text = re.sub(r'\\s+', ' ', text)\n",
        "    text = re.sub(r'halaman\\s*\\d+\\s*dari\\s*\\d+\\s*', '', text)\n",
        "    text = re.sub(r'^\\s*dari\\s+\\d+\\s+bkl\\s+', '', text, flags=re.IGNORECASE)\n",
        "    text = re.sub(r'^\\s*dari\\s+\\d+\\s+smp\\s+', '', text, flags=re.IGNORECASE)\n",
        "    text = re.sub(r'\\s+/PN', '/PN', text)\n",
        "    text = re.sub(r'(\\d+)\\s*/pid', r'\\1/pid', text)\n",
        "    text = re.sub(r'(?i)(nomor)(\\d+)', r'\\1 \\2', text)\n",
        "    text = re.sub(r'(\\d+)/\\s*(pid\\.\\w+)/\\s*(\\d{4})/\\s*(pn)', r'\\1/\\2/\\3/\\4', text, flags=re.IGNORECASE)\n",
        "    return text.lower().strip()\n",
        "\n",
        "def multiple_replace(text, replacements):\n",
        "    regex = re.compile('|'.join(re.escape(key) for key in replacements.keys()))\n",
        "\n",
        "    def replace(match):\n",
        "        return replacements[match.group(0)]\n",
        "\n",
        "    return regex.sub(replace, text)\n",
        "\n",
        "def tokenize_text(text):\n",
        "    tokens = re.findall(r'\\w+|[^\\w\\s]', text)\n",
        "    return tokens\n",
        "\n"
      ]
    },
    {
      "cell_type": "code",
      "execution_count": null,
      "metadata": {
        "execution": {
          "iopub.execute_input": "2024-06-28T16:35:16.966028Z",
          "iopub.status.busy": "2024-06-28T16:35:16.965650Z",
          "iopub.status.idle": "2024-06-28T16:35:16.977952Z",
          "shell.execute_reply": "2024-06-28T16:35:16.976762Z",
          "shell.execute_reply.started": "2024-06-28T16:35:16.966000Z"
        },
        "id": "2GT9YPLdjney",
        "trusted": true
      },
      "outputs": [],
      "source": [
        "replacements = {\n",
        "    '1 0': '10' ,'20 20': '2020', '2 7' : '27', 'a gustus' : 'agustus', '( 2)': '(2)', '.,': ' .,', ',s': ' ,s','ted dy' : 'teddy',\n",
        "    'ro omius,' : 'roomius,', 'h ukum': 'hukum', '//pn': '/pn', '2022oleh' : '2022 oleh', 'alimuddi n,' : 'alimuddin,', '202 3': '2023',\n",
        "    'perkos aan': 'perkosaan', 'memberatka n': 'memberatkan', 'p idana': 'pidana', 'sebag aimana': 'sebagaimana', 'bulan;' : 'bulan', '2 23' : '2023',\n",
        "    '2 023': '2023','2 022': '2022', 'f isik': 'fisik', 'be rsalah': 'bersalah', '(sepuluh )': '(sepuluh)', 'ap ril' : 'april',\n",
        "    '(enam )': '(enam)', 'no mor': 'nomor', '( 3)': '(3)', 'an ak': 'anak', 'tuj uh': 'tujuh', 'hu bungan': 'hubungan', 'pencur ian' : 'pencurian',\n",
        "    'selam a1 (satu)' : 'selama 1 (satu)', '(empat )' : '(empat)', 's eptember' : 'september', 'keadaa n' : 'keadaan', '27januari' : '27 januari',\n",
        "    'bulan;3.menetapkan' : 'bulan 3.menetapkan','januari,2023' : 'januari 2023', '202 2' : '2022','202 4' : '2024', '202 3' : '2023','2023//' : '2023',\n",
        "    '20 22' : '2022','20 21' : '2021','202 1' : '2021', '27januari' : '27 januari', 'januari,2023' : 'januari 2023', 'sepember' : 'september',\n",
        "    'bk l' : 'bkl','pm k' : 'pmk', 'bki' : 'bkl',  'pid.b /' : 'pid.b/', 'pn.' : 'pn ', 'pid. b' : 'pid.b', 'pnpmk' : 'pn pmk', '2023pn' : '2023 pn',\n",
        "    'smp.' : 'smp', '(al m)' : '(alm)', 'Al m' : 'Alm', \"'\" : '’', 'b in' : 'bin', 'bu lan' : 'bulan', 'kuhpdan' : 'kuhp dan',\n",
        "    'pencuriandalam' : 'pencurian dalam', 'keadaa n' : 'keadaan', 'pembunuhanberencana' : 'pembunuhan berencana', 'bulan3.menetapkan' : 'bulan 3.menetapkan',\n",
        "    'bulan3.menyatakan' :  'bulan 3.menyatakan', 't aufik' : 'taufik', 'olehhaidir' : 'oleh haidir','olehfajrini' : 'oleh fajrini', 'janurai' : 'januari',\n",
        "    'nopember': 'november','pebruari': 'februari','a gustus' : 'agustus', 'september2023,' : 'september 2023,','aapril' : 'april', 'ja nuari' : 'januari',\n",
        "    'no mor': 'nomor', ',serta' : ', serta', 'agussyamsul' : 'agus syamsul', 'a stuti' : 'astuti'\n",
        "}"
      ]
    },
    {
      "cell_type": "code",
      "execution_count": null,
      "metadata": {
        "execution": {
          "iopub.execute_input": "2024-06-28T16:35:18.143816Z",
          "iopub.status.busy": "2024-06-28T16:35:18.143442Z",
          "iopub.status.idle": "2024-06-28T16:35:21.134511Z",
          "shell.execute_reply": "2024-06-28T16:35:21.133455Z",
          "shell.execute_reply.started": "2024-06-28T16:35:18.143784Z"
        },
        "id": "AXv21tzCjney",
        "trusted": true
      },
      "outputs": [],
      "source": [
        "pdf_path = '../Data/Test/7_Pid.B_2023_PN_Bkl.pdf'\n",
        "text = pdf_to_text(pdf_path)\n",
        "preprocessed_text = preprocess_text(text)\n",
        "preprocessed_text = multiple_replace(preprocessed_text, replacements)\n",
        "tokens = tokenize_text(preprocessed_text)"
      ]
    },
    {
      "cell_type": "code",
      "execution_count": null,
      "metadata": {
        "execution": {
          "iopub.execute_input": "2024-06-28T15:58:38.950244Z",
          "iopub.status.busy": "2024-06-28T15:58:38.949326Z",
          "iopub.status.idle": "2024-06-28T15:58:59.479050Z",
          "shell.execute_reply": "2024-06-28T15:58:59.477993Z",
          "shell.execute_reply.started": "2024-06-28T15:58:38.950205Z"
        },
        "id": "ncu8XFghjney",
        "trusted": true
      },
      "outputs": [],
      "source": [
        "import nltk\n",
        "nltk.download('punkt')"
      ]
    },
    {
      "cell_type": "code",
      "execution_count": null,
      "metadata": {
        "execution": {
          "iopub.status.busy": "2024-06-28T13:58:34.151891Z",
          "iopub.status.idle": "2024-06-28T13:58:34.152265Z",
          "shell.execute_reply": "2024-06-28T13:58:34.152080Z",
          "shell.execute_reply.started": "2024-06-28T13:58:34.152066Z"
        },
        "id": "5BkaOnohjney",
        "trusted": true
      },
      "outputs": [],
      "source": [
        "# from nltk.tokenize import word_tokenize\n",
        "# def predict_labels(model, sentence, target_tags):\n",
        "#     # Memisahkan kalimat menjadi beberapa kalimat berdasarkan tanda ';'\n",
        "#     sentences = sentence.split(';')\n",
        "#     all_sentence_results = []\n",
        "\n",
        "#     for sent in sentences:\n",
        "# #         words = split_token(sent)\n",
        "# #         Tokenisasi kalimat menjadi kata-kata\n",
        "#         words = sent.strip().split()\n",
        "#         words = [re.split(r'(\\W)', word) for word in words]\n",
        "#         words = [item for sublist in words for item in sublist if item.strip()]\n",
        "#         # Mendapatkan embedding kata dari model\n",
        "#         embeddings = [get_word_embedding(word) for word in words]\n",
        "#         # Padding sequence jika panjang kurang dari MAX_LEN\n",
        "#         padded_sequence = pad_sequences([embeddings], maxlen=MAX_LEN, padding=\"post\", dtype='float32', value=np.zeros(cbow_model.vector_size))\n",
        "# #         padded_sequence = np.array(padded_sequence)\n",
        "#         # Melakukan prediksi dengan model\n",
        "#         predictions = model.predict(padded_sequence)\n",
        "#         # Mengambil indeks label terbesar untuk setiap kata\n",
        "#         predicted_labels = np.argmax(predictions, axis=-1)[0]\n",
        "#         # Mengubah indeks label menjadi tag kata\n",
        "#         predicted_tags = [idx2tag[idx] for idx in predicted_labels]\n",
        "# #         print(words)\n",
        "# #         print(predicted_tags)\n",
        "#         # Menyimpan hasil untuk setiap tag yang ditemukan dalam satu kalimat\n",
        "#         temp_results = {key: [] for key in target_tags}\n",
        "\n",
        "#         # Memetakan kata-kata berdasarkan prediksi tag\n",
        "#         for word, tag in zip(words, predicted_tags):\n",
        "#             for key, tags in target_tags.items():\n",
        "#                 if tag in tags:\n",
        "#                     temp_results[key].append(word)\n",
        "\n",
        "#         # Menyatukan hasil dari kalimat ini ke dalam combined_results jika belum ada hasil untuk tag tersebut\n",
        "#         for key in temp_results:\n",
        "#             temp_results[key] = ' '.join(sorted(set(temp_results[key]), key=temp_results[key].index))\n",
        "#         all_sentence_results.append(temp_results)\n",
        "\n",
        "#     return all_sentence_results"
      ]
    },
    {
      "cell_type": "code",
      "execution_count": null,
      "metadata": {
        "execution": {
          "iopub.execute_input": "2024-06-28T16:35:22.860818Z",
          "iopub.status.busy": "2024-06-28T16:35:22.860419Z",
          "iopub.status.idle": "2024-06-28T16:35:22.884922Z",
          "shell.execute_reply": "2024-06-28T16:35:22.883724Z",
          "shell.execute_reply.started": "2024-06-28T16:35:22.860783Z"
        },
        "id": "qVsGdQsUjnez",
        "trusted": true
      },
      "outputs": [],
      "source": [
        "def predict_labels(model, sentence, target_tags):\n",
        "    # Memisahkan kalimat menjadi beberapa kalimat berdasarkan tanda ';'\n",
        "    sentences = sentence.split(';')\n",
        "\n",
        "    # Inisialisasi dictionary hasil dengan semua target tags\n",
        "    combined_results = {key: \"\" for key in target_tags}\n",
        "    found_terdakwa = []\n",
        "    tags_from_start = [\"nomor putusan\",\"nama terdakwa\",  \"melanggar UU\", \"putusan hukuman\", \"tuntutan hukuman\"]\n",
        "    # Daftar tag yang diambil dari akhir ke awal\n",
        "    tags_from_end = [\"jenis dakwaan\",\"tanggal putusan\", \"hakim ketua\", \"hakim anggota\", \"penuntut umum\", \"panitera\"]\n",
        "\n",
        "\n",
        "    for sent in sentences:\n",
        "        # Tokenisasi kalimat menjadi kata-kata\n",
        "        words = sent.strip().split()\n",
        "        words = [re.split(r'(\\W)', word) for word in words]\n",
        "        words = [item for sublist in words for item in sublist if item.strip()]\n",
        "\n",
        "        # Mendapatkan embedding kata dari model\n",
        "        embeddings = [get_word_embedding(word) for word in words]\n",
        "\n",
        "        # Padding sequence jika panjang kurang dari MAX_LEN\n",
        "        padded_sequence = pad_sequences([embeddings], maxlen=MAX_LEN, padding=\"post\", dtype='float32', value=np.zeros(cbow_model.vector_size))\n",
        "\n",
        "        # Melakukan prediksi dengan model\n",
        "        predictions = model.predict(padded_sequence)\n",
        "\n",
        "        # Mengambil indeks label terbesar untuk setiap kata\n",
        "        predicted_labels = np.argmax(predictions, axis=-1)[0]\n",
        "\n",
        "        # Mengubah indeks label menjadi tag kata\n",
        "        predicted_tags = [idx2tag[idx] for idx in predicted_labels]\n",
        "#         print(words)\n",
        "#         print(predicted_tags)\n",
        "\n",
        "        # Menyimpan hasil untuk setiap tag yang ditemukan dalam satu kalimat\n",
        "        temp_results = {key: [] for key in target_tags}\n",
        "\n",
        "        # Memetakan kata-kata berdasarkan prediksi tag\n",
        "        for word, tag in zip(words, predicted_tags):\n",
        "            for key, tags in target_tags.items():\n",
        "                if tag in tags:\n",
        "                    temp_results[key].append(word)\n",
        "\n",
        "        for key in temp_results:\n",
        "            if key in tags_from_start and not combined_results[key] and temp_results[key]:\n",
        "                combined_results[key] = ' '.join(sorted(set(temp_results[key]), key=temp_results[key].index))\n",
        "\n",
        "\n",
        "# Mengambil entitas dari kalimat akhir ke awal\n",
        "    for sent in reversed(sentences):\n",
        "        if all(combined_results[key] for key in tags_from_end):\n",
        "            break\n",
        "        # Tokenisasi kalimat menjadi kata-kata\n",
        "        words = sent.strip().split()\n",
        "        words = [re.split(r'(\\W)', word) for word in words]\n",
        "        words = [item for sublist in words for item in sublist if item.strip()]\n",
        "\n",
        "        # Mendapatkan embedding kata dari model\n",
        "        embeddings = [get_word_embedding(word) for word in words]\n",
        "\n",
        "        # Padding sequence jika panjang kurang dari MAX_LEN\n",
        "        padded_sequence = pad_sequences([embeddings], maxlen=MAX_LEN, padding=\"post\", dtype='float32', value=np.zeros(cbow_model.vector_size))\n",
        "\n",
        "        # Melakukan prediksi dengan model\n",
        "        predictions = model.predict(padded_sequence)\n",
        "\n",
        "        # Mengambil indeks label terbesar untuk setiap kata\n",
        "        predicted_labels = np.argmax(predictions, axis=-1)[0]\n",
        "\n",
        "        # Mengubah indeks label menjadi tag kata\n",
        "        predicted_tags = [idx2tag[idx] for idx in predicted_labels]\n",
        "\n",
        "        # Menyimpan hasil untuk setiap tag yang ditemukan dalam satu kalimat\n",
        "        temp_results = {key: [] for key in target_tags}\n",
        "\n",
        "        # Memetakan kata-kata berdasarkan prediksi tag\n",
        "        for word, tag in zip(words, predicted_tags):\n",
        "            for key, tags in target_tags.items():\n",
        "                if tag in tags:\n",
        "                    temp_results[key].append(word)\n",
        "\n",
        "        # Menggabungkan hasil dari kalimat ini ke dalam combined_results jika belum ada hasil untuk tag tersebut\n",
        "        for key in temp_results:\n",
        "            if key in tags_from_end and not combined_results[key] and temp_results[key]:\n",
        "                combined_results[key] = ' '.join(sorted(set(temp_results[key]), key=temp_results[key].index))\n",
        "    if combined_results['hakim anggota']:\n",
        "        combined_results['hakim anggota'] = process_hakim_anggota(combined_results['hakim anggota'])\n",
        "\n",
        "\n",
        "    return combined_results\n",
        "\n",
        "def process_hakim_anggota(text):\n",
        "    # Find all sequences that match the pattern and combine them with 'dan'\n",
        "    matches = re.findall(r'(\\w+\\s\\w+)', text)\n",
        "    if matches:\n",
        "        return ' dan '.join(matches)\n",
        "    return text"
      ]
    },
    {
      "cell_type": "code",
      "execution_count": null,
      "metadata": {
        "execution": {
          "iopub.execute_input": "2024-06-28T16:35:23.463067Z",
          "iopub.status.busy": "2024-06-28T16:35:23.462175Z",
          "iopub.status.idle": "2024-06-28T16:35:23.468854Z",
          "shell.execute_reply": "2024-06-28T16:35:23.467769Z",
          "shell.execute_reply.started": "2024-06-28T16:35:23.463034Z"
        },
        "id": "ltHF_spZjnez",
        "trusted": true
      },
      "outputs": [],
      "source": [
        "target_tags = {\"nomor putusan\": [\"B_VERN\", \"I_VERN\"], \"nama terdakwa\": [\"B_DEFN\", \"I_DEFN\"], \"jenis dakwaan\": [\"B_CRIA\", \"I_CRIA\"],\n",
        "              \"melanggar UU\": [\"B_ARTV\", \"I_ARTV\"], \"putusan hukuman\": [\"B_PUNI\", \"I_PUNI\"], \"tuntutan hukuman\": [\"B_PENA\", \"I_PENA\"],\n",
        "              \"tanggal putusan\": [\"B_TIMV\", \"I_TIMV\"], \"hakim ketua\": [\"B_JUDP\", \"I_JUDP\"], \"hakim anggota\": [\"B_JUG\", \"I_JUG\"],\n",
        "              \"penuntut umum\": [\"B_PROS\", \"I_PROS\"], \"panitera\": [\"B_REGI\", \"I_REGI\"]}"
      ]
    },
    {
      "cell_type": "markdown",
      "metadata": {
        "id": "Kt75AXXDjnez"
      },
      "source": [
        "### Prediksi SGD"
      ]
    },
    {
      "cell_type": "code",
      "execution_count": null,
      "metadata": {
        "execution": {
          "iopub.execute_input": "2024-06-28T16:35:24.407028Z",
          "iopub.status.busy": "2024-06-28T16:35:24.406264Z",
          "iopub.status.idle": "2024-06-28T16:36:13.055984Z",
          "shell.execute_reply": "2024-06-28T16:36:13.055126Z",
          "shell.execute_reply.started": "2024-06-28T16:35:24.406993Z"
        },
        "id": "ahJH38_qjnez",
        "trusted": true
      },
      "outputs": [],
      "source": [
        "relevant_wordsSGD = predict_labels(modelSGD, preprocessed_text,target_tags)"
      ]
    },
    {
      "cell_type": "code",
      "execution_count": null,
      "metadata": {
        "execution": {
          "iopub.execute_input": "2024-06-28T16:36:13.058470Z",
          "iopub.status.busy": "2024-06-28T16:36:13.058069Z",
          "iopub.status.idle": "2024-06-28T16:36:13.066821Z",
          "shell.execute_reply": "2024-06-28T16:36:13.065814Z",
          "shell.execute_reply.started": "2024-06-28T16:36:13.058438Z"
        },
        "id": "BirQqauQjne0",
        "trusted": true
      },
      "outputs": [],
      "source": [
        "for key, words in relevant_wordsSGD.items():\n",
        "    if words:\n",
        "        if key.lower() == 'nomor putusan':\n",
        "            output = words.replace(' / ', '/').replace(' ','').replace('pn','pn ').replace('.b','.b/').replace('2021','2021/').replace('2022','2022/').replace('2023','2023/').replace('2024','2024/')\n",
        "        else:\n",
        "            output = words.replace('“','').replace('”','')\n",
        "        print(f\"{key.capitalize()}: {output}\")\n",
        "    else:\n",
        "        print(f\"Tidak ada kata dengan tag {key} dalam kalimat ini.\")"
      ]
    },
    {
      "cell_type": "markdown",
      "metadata": {
        "id": "bo7BKmFjjne0"
      },
      "source": [
        "### Prediksi Adam"
      ]
    },
    {
      "cell_type": "code",
      "execution_count": null,
      "metadata": {
        "execution": {
          "iopub.execute_input": "2024-06-28T16:36:13.068468Z",
          "iopub.status.busy": "2024-06-28T16:36:13.068137Z",
          "iopub.status.idle": "2024-06-28T16:36:39.081877Z",
          "shell.execute_reply": "2024-06-28T16:36:39.080886Z",
          "shell.execute_reply.started": "2024-06-28T16:36:13.068441Z"
        },
        "id": "jMMXHKCjjne0",
        "trusted": true
      },
      "outputs": [],
      "source": [
        "relevant_wordsAdam = predict_labels(modelAdam, preprocessed_text,target_tags)"
      ]
    },
    {
      "cell_type": "code",
      "execution_count": null,
      "metadata": {
        "execution": {
          "iopub.execute_input": "2024-06-28T16:36:39.084781Z",
          "iopub.status.busy": "2024-06-28T16:36:39.084400Z",
          "iopub.status.idle": "2024-06-28T16:36:39.092749Z",
          "shell.execute_reply": "2024-06-28T16:36:39.091706Z",
          "shell.execute_reply.started": "2024-06-28T16:36:39.084749Z"
        },
        "id": "fUT9CQpwjne0",
        "trusted": true
      },
      "outputs": [],
      "source": [
        "for key, words in relevant_wordsAdam.items():\n",
        "    if words:\n",
        "        if key.lower() == 'nomor putusan':\n",
        "            output = words.replace(' / ', '/').replace(' ','').replace('pn','pn ').replace('.b','.b/').replace('2021','2021/').replace('2022','2022/').replace('2023','2023/').replace('2024','2024/')\n",
        "        else:\n",
        "            output = words.replace('“','').replace('”','')\n",
        "        print(f\"{key.capitalize()}: {output}\")\n",
        "    else:\n",
        "        print(f\"Tidak ada kata dengan tag {key} dalam kalimat ini.\")"
      ]
    },
    {
      "cell_type": "markdown",
      "metadata": {
        "id": "nYWZObRhjne1"
      },
      "source": [
        "### Prediksi Rmsprop"
      ]
    },
    {
      "cell_type": "code",
      "execution_count": null,
      "metadata": {
        "execution": {
          "iopub.execute_input": "2024-06-28T16:36:39.094152Z",
          "iopub.status.busy": "2024-06-28T16:36:39.093866Z",
          "iopub.status.idle": "2024-06-28T16:37:05.381566Z",
          "shell.execute_reply": "2024-06-28T16:37:05.380597Z",
          "shell.execute_reply.started": "2024-06-28T16:36:39.094127Z"
        },
        "id": "YhkCT3ikjne1",
        "trusted": true
      },
      "outputs": [],
      "source": [
        "relevant_wordsRmsprop = predict_labels(modelRmsprop, preprocessed_text,target_tags)"
      ]
    },
    {
      "cell_type": "code",
      "execution_count": null,
      "metadata": {
        "execution": {
          "iopub.execute_input": "2024-06-28T16:37:05.383236Z",
          "iopub.status.busy": "2024-06-28T16:37:05.382904Z",
          "iopub.status.idle": "2024-06-28T16:37:05.391668Z",
          "shell.execute_reply": "2024-06-28T16:37:05.390600Z",
          "shell.execute_reply.started": "2024-06-28T16:37:05.383206Z"
        },
        "id": "Vw0MyTIkjne1",
        "trusted": true
      },
      "outputs": [],
      "source": [
        "for key, words in relevant_wordsRmsprop.items():\n",
        "    if words:\n",
        "        if key.lower() == 'nomor putusan':\n",
        "            output = words.replace(' / ', '/').replace(' ','').replace('pn','pn ').replace('.b','.b/').replace('2021','2021/').replace('2022','2022/').replace('2023','2023/').replace('2024','2024/')\n",
        "        else:\n",
        "            output = words.replace('“','').replace('”','')\n",
        "        print(f\"{key.capitalize()}: {output}\")\n",
        "    else:\n",
        "        print(f\"Tidak ada kata dengan tag {key} dalam kalimat ini.\")"
      ]
    },
    {
      "cell_type": "code",
      "execution_count": null,
      "metadata": {
        "id": "1QCTE6VBjne1"
      },
      "outputs": [],
      "source": []
    }
  ],
  "metadata": {
    "colab": {
      "provenance": [],
      "toc_visible": true
    },
    "kaggle": {
      "accelerator": "nvidiaTeslaT4",
      "dataSources": [
        {
          "datasetId": 4267316,
          "sourceId": 7348725,
          "sourceType": "datasetVersion"
        },
        {
          "datasetId": 4661183,
          "sourceId": 7930258,
          "sourceType": "datasetVersion"
        },
        {
          "datasetId": 4964048,
          "sourceId": 8354405,
          "sourceType": "datasetVersion"
        },
        {
          "datasetId": 5221794,
          "sourceId": 8705546,
          "sourceType": "datasetVersion"
        },
        {
          "datasetId": 5222129,
          "sourceId": 8706091,
          "sourceType": "datasetVersion"
        },
        {
          "datasetId": 5222355,
          "sourceId": 8706368,
          "sourceType": "datasetVersion"
        },
        {
          "datasetId": 5227716,
          "sourceId": 8713762,
          "sourceType": "datasetVersion"
        },
        {
          "datasetId": 5228008,
          "sourceId": 8714166,
          "sourceType": "datasetVersion"
        },
        {
          "datasetId": 5238676,
          "sourceId": 8728486,
          "sourceType": "datasetVersion"
        },
        {
          "datasetId": 5238723,
          "sourceId": 8728540,
          "sourceType": "datasetVersion"
        },
        {
          "datasetId": 5244239,
          "sourceId": 8735962,
          "sourceType": "datasetVersion"
        },
        {
          "datasetId": 5254394,
          "sourceId": 8748906,
          "sourceType": "datasetVersion"
        },
        {
          "datasetId": 5262382,
          "sourceId": 8759072,
          "sourceType": "datasetVersion"
        }
      ],
      "dockerImageVersionId": 30698,
      "isGpuEnabled": true,
      "isInternetEnabled": false,
      "language": "python",
      "sourceType": "notebook"
    },
    "kernelspec": {
      "display_name": "Python 3",
      "language": "python",
      "name": "python3"
    },
    "language_info": {
      "codemirror_mode": {
        "name": "ipython",
        "version": 3
      },
      "file_extension": ".py",
      "mimetype": "text/x-python",
      "name": "python",
      "nbconvert_exporter": "python",
      "pygments_lexer": "ipython3",
      "version": "3.11.2"
    }
  },
  "nbformat": 4,
  "nbformat_minor": 0
}
